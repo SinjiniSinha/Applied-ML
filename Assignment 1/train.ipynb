{
 "cells": [
  {
   "cell_type": "code",
   "execution_count": 49,
   "id": "2bc3ec6c",
   "metadata": {},
   "outputs": [],
   "source": [
    "import pandas as pd\n",
    "import sklearn\n",
    "import numpy as np\n",
    "from sklearn.feature_extraction.text import TfidfVectorizer\n",
    "from sklearn.linear_model import LogisticRegression\n",
    "from sklearn.metrics import accuracy_score, classification_report\n",
    "from sklearn.neural_network import MLPClassifier\n",
    "from sklearn.naive_bayes import GaussianNB, MultinomialNB\n",
    "from sklearn.utils import resample"
   ]
  },
  {
   "cell_type": "code",
   "execution_count": 50,
   "id": "f6785d16",
   "metadata": {},
   "outputs": [],
   "source": [
    "train=pd.read_csv(\"train.csv\")\n",
    "val=pd.read_csv(\"validation.csv\")\n",
    "test=pd.read_csv(\"test.csv\")"
   ]
  },
  {
   "cell_type": "code",
   "execution_count": 51,
   "id": "ef30d3ef",
   "metadata": {},
   "outputs": [
    {
     "name": "stdout",
     "output_type": "stream",
     "text": [
      "Train size = 3900\n",
      "Test size = 836\n",
      "Validation size = 836\n"
     ]
    }
   ],
   "source": [
    "print(\"Train size =\",len(train))\n",
    "print(\"Test size =\",len(test))\n",
    "print(\"Validation size =\",len(val))"
   ]
  },
  {
   "cell_type": "code",
   "execution_count": 52,
   "id": "4d81ab3d",
   "metadata": {},
   "outputs": [],
   "source": [
    "y_train,X_train=train[\"label\"],train[\"text\"]\n",
    "y_val,X_val=val[\"label\"],val[\"text\"]\n",
    "y_test,X_test=val[\"label\"],val[\"text\"]"
   ]
  },
  {
   "cell_type": "code",
   "execution_count": 53,
   "id": "71563070",
   "metadata": {},
   "outputs": [
    {
     "data": {
      "text/plain": [
       "0    3383\n",
       "1     517\n",
       "Name: label, dtype: int64"
      ]
     },
     "execution_count": 53,
     "metadata": {},
     "output_type": "execute_result"
    }
   ],
   "source": [
    "train['label'].value_counts()"
   ]
  },
  {
   "cell_type": "markdown",
   "id": "97b51bee",
   "metadata": {},
   "source": [
    "Highly imbalanced data. Hence, we oversample the minority class."
   ]
  },
  {
   "cell_type": "code",
   "execution_count": 54,
   "id": "0a8b2040",
   "metadata": {},
   "outputs": [],
   "source": [
    "train_majority = train[train[\"label\"]==0]\n",
    "train_minority = train[train[\"label\"]==1]"
   ]
  },
  {
   "cell_type": "code",
   "execution_count": 55,
   "id": "244a910f",
   "metadata": {},
   "outputs": [],
   "source": [
    "train_minority_upsampled = resample(train_minority, \n",
    "                                 replace=True,     # sample with replacement\n",
    "                                 n_samples=len(train_majority),    # to match majority class\n",
    "                                 random_state=1234) # reproducible results"
   ]
  },
  {
   "cell_type": "code",
   "execution_count": 56,
   "id": "2d3ce19c",
   "metadata": {},
   "outputs": [],
   "source": [
    "train = pd.concat([train_majority, train_minority_upsampled])"
   ]
  },
  {
   "cell_type": "code",
   "execution_count": 57,
   "id": "8840ca43",
   "metadata": {},
   "outputs": [],
   "source": [
    "y_train,X_train=train[\"label\"],train[\"text\"]\n",
    "y_val,X_val=val[\"label\"],val[\"text\"]\n",
    "y_test,X_test=val[\"label\"],val[\"text\"]"
   ]
  },
  {
   "cell_type": "code",
   "execution_count": 58,
   "id": "e115d356",
   "metadata": {},
   "outputs": [
    {
     "data": {
      "text/plain": [
       "0    3383\n",
       "1    3383\n",
       "Name: label, dtype: int64"
      ]
     },
     "execution_count": 58,
     "metadata": {},
     "output_type": "execute_result"
    }
   ],
   "source": [
    "train['label'].value_counts()"
   ]
  },
  {
   "cell_type": "code",
   "execution_count": 59,
   "id": "78c72d94",
   "metadata": {},
   "outputs": [],
   "source": [
    "# transform the text data to feature vectors that can be used as input to the Logistic regression\n",
    "\n",
    "feature_extraction = TfidfVectorizer(min_df = 1, stop_words='english', lowercase='True')\n",
    "\n",
    "X_train_features = feature_extraction.fit_transform(X_train)\n",
    "X_test_features = feature_extraction.transform(X_test)\n",
    "\n",
    "# convert Y_train and Y_test values as integers\n",
    "\n",
    "y_train = y_train.astype('int')\n",
    "y_test = y_test.astype('int')"
   ]
  },
  {
   "cell_type": "code",
   "execution_count": 60,
   "id": "dc95f93c",
   "metadata": {},
   "outputs": [
    {
     "name": "stdout",
     "output_type": "stream",
     "text": [
      "(6766,)\n",
      "(6766, 6997)\n"
     ]
    }
   ],
   "source": [
    "print(X_train.shape)\n",
    "print(X_train_features.shape)"
   ]
  },
  {
   "cell_type": "markdown",
   "id": "fc6938db",
   "metadata": {},
   "source": [
    "# Logistic Regression"
   ]
  },
  {
   "cell_type": "code",
   "execution_count": 61,
   "id": "1c605151",
   "metadata": {},
   "outputs": [],
   "source": [
    "model1 = LogisticRegression()"
   ]
  },
  {
   "cell_type": "code",
   "execution_count": 62,
   "id": "3dc4b3f5",
   "metadata": {},
   "outputs": [
    {
     "data": {
      "text/plain": [
       "LogisticRegression()"
      ]
     },
     "execution_count": 62,
     "metadata": {},
     "output_type": "execute_result"
    }
   ],
   "source": [
    "# training the Logistic Regression model with the training data\n",
    "model1.fit(X_train_features, y_train)"
   ]
  },
  {
   "cell_type": "code",
   "execution_count": 63,
   "id": "36c012a9",
   "metadata": {},
   "outputs": [],
   "source": [
    "# prediction on training data\n",
    "\n",
    "prediction_on_training_data = model1.predict(X_train_features)\n",
    "accuracy_on_training_data = accuracy_score(y_train, prediction_on_training_data)"
   ]
  },
  {
   "cell_type": "code",
   "execution_count": 64,
   "id": "a0bc8133",
   "metadata": {},
   "outputs": [
    {
     "name": "stdout",
     "output_type": "stream",
     "text": [
      "Accuracy on training data :  0.9979308306237068\n"
     ]
    }
   ],
   "source": [
    "print('Accuracy on training data : ', accuracy_on_training_data)"
   ]
  },
  {
   "cell_type": "code",
   "execution_count": 65,
   "id": "572f5f30",
   "metadata": {},
   "outputs": [],
   "source": [
    "# prediction on test data\n",
    "\n",
    "y_pred = model1.predict(X_test_features)\n",
    "accuracy_on_test_data = accuracy_score(y_test, y_pred)"
   ]
  },
  {
   "cell_type": "code",
   "execution_count": 66,
   "id": "5aea1525",
   "metadata": {},
   "outputs": [
    {
     "name": "stdout",
     "output_type": "stream",
     "text": [
      "Accuracy on test data :  0.9892344497607656\n"
     ]
    }
   ],
   "source": [
    "print('Accuracy on test data : ', accuracy_on_test_data)"
   ]
  },
  {
   "cell_type": "code",
   "execution_count": 67,
   "id": "5f994b81",
   "metadata": {},
   "outputs": [
    {
     "name": "stdout",
     "output_type": "stream",
     "text": [
      "              precision    recall  f1-score   support\n",
      "\n",
      "           0       0.99      1.00      0.99       725\n",
      "           1       0.99      0.93      0.96       111\n",
      "\n",
      "    accuracy                           0.99       836\n",
      "   macro avg       0.99      0.96      0.98       836\n",
      "weighted avg       0.99      0.99      0.99       836\n",
      "\n"
     ]
    }
   ],
   "source": [
    "print(classification_report(y_test,y_pred))"
   ]
  },
  {
   "cell_type": "markdown",
   "id": "f0b71acd",
   "metadata": {},
   "source": [
    "# MLP Classifier"
   ]
  },
  {
   "cell_type": "code",
   "execution_count": 68,
   "id": "a849cfa0",
   "metadata": {},
   "outputs": [
    {
     "data": {
      "text/plain": [
       "MLPClassifier()"
      ]
     },
     "execution_count": 68,
     "metadata": {},
     "output_type": "execute_result"
    }
   ],
   "source": [
    "model2=MLPClassifier()\n",
    "model2.fit(X_train_features, y_train)"
   ]
  },
  {
   "cell_type": "code",
   "execution_count": 69,
   "id": "b18a9ee9",
   "metadata": {},
   "outputs": [],
   "source": [
    "# prediction on training data\n",
    "\n",
    "prediction_on_training_data = model2.predict(X_train_features)\n",
    "accuracy_on_training_data = accuracy_score(y_train, prediction_on_training_data)"
   ]
  },
  {
   "cell_type": "code",
   "execution_count": 70,
   "id": "48c8ca7e",
   "metadata": {},
   "outputs": [
    {
     "name": "stdout",
     "output_type": "stream",
     "text": [
      "Accuracy on training data :  1.0\n"
     ]
    }
   ],
   "source": [
    "print('Accuracy on training data : ', accuracy_on_training_data)"
   ]
  },
  {
   "cell_type": "code",
   "execution_count": 71,
   "id": "4901e6de",
   "metadata": {},
   "outputs": [],
   "source": [
    "# prediction on test data\n",
    "\n",
    "y_pred = model2.predict(X_test_features)\n",
    "accuracy_on_test_data = accuracy_score(y_test, y_pred)"
   ]
  },
  {
   "cell_type": "code",
   "execution_count": 72,
   "id": "adcc77a6",
   "metadata": {},
   "outputs": [
    {
     "name": "stdout",
     "output_type": "stream",
     "text": [
      "Accuracy on test data :  0.9880382775119617\n"
     ]
    }
   ],
   "source": [
    "print('Accuracy on test data : ', accuracy_on_test_data)"
   ]
  },
  {
   "cell_type": "code",
   "execution_count": 73,
   "id": "cbab85e5",
   "metadata": {},
   "outputs": [
    {
     "name": "stdout",
     "output_type": "stream",
     "text": [
      "              precision    recall  f1-score   support\n",
      "\n",
      "           0       0.99      1.00      0.99       725\n",
      "           1       0.99      0.92      0.95       111\n",
      "\n",
      "    accuracy                           0.99       836\n",
      "   macro avg       0.99      0.96      0.97       836\n",
      "weighted avg       0.99      0.99      0.99       836\n",
      "\n"
     ]
    }
   ],
   "source": [
    "print(classification_report(y_test,y_pred))"
   ]
  },
  {
   "cell_type": "markdown",
   "id": "7261a735",
   "metadata": {},
   "source": [
    "# Naive Bayes Classifier"
   ]
  },
  {
   "cell_type": "markdown",
   "id": "2f7306ab",
   "metadata": {},
   "source": [
    "### Gaussian NB Classifier"
   ]
  },
  {
   "cell_type": "code",
   "execution_count": 74,
   "id": "bd0986f8",
   "metadata": {},
   "outputs": [
    {
     "data": {
      "text/plain": [
       "GaussianNB()"
      ]
     },
     "execution_count": 74,
     "metadata": {},
     "output_type": "execute_result"
    }
   ],
   "source": [
    "model3 = GaussianNB()\n",
    "model3.fit(X_train_features.toarray() , y_train)"
   ]
  },
  {
   "cell_type": "code",
   "execution_count": 75,
   "id": "a6e49590",
   "metadata": {},
   "outputs": [],
   "source": [
    "# prediction on training data\n",
    "\n",
    "prediction_on_training_data = model3.predict(X_train_features.toarray())\n",
    "accuracy_on_training_data = accuracy_score(y_train, prediction_on_training_data)"
   ]
  },
  {
   "cell_type": "code",
   "execution_count": 76,
   "id": "31979ab2",
   "metadata": {},
   "outputs": [
    {
     "name": "stdout",
     "output_type": "stream",
     "text": [
      "Accuracy on training data :  0.9694058527933787\n"
     ]
    }
   ],
   "source": [
    "print('Accuracy on training data : ', accuracy_on_training_data)"
   ]
  },
  {
   "cell_type": "code",
   "execution_count": 77,
   "id": "568637d8",
   "metadata": {},
   "outputs": [],
   "source": [
    "# prediction on test data\n",
    "\n",
    "y_pred = model3.predict(X_test_features.toarray())\n",
    "accuracy_on_test_data = accuracy_score(y_test, y_pred)"
   ]
  },
  {
   "cell_type": "code",
   "execution_count": 78,
   "id": "77bb0c0d",
   "metadata": {},
   "outputs": [
    {
     "name": "stdout",
     "output_type": "stream",
     "text": [
      "Accuracy on test data :  0.8779904306220095\n"
     ]
    }
   ],
   "source": [
    "print('Accuracy on test data : ', accuracy_on_test_data)"
   ]
  },
  {
   "cell_type": "code",
   "execution_count": 79,
   "id": "75305d8f",
   "metadata": {},
   "outputs": [
    {
     "name": "stdout",
     "output_type": "stream",
     "text": [
      "              precision    recall  f1-score   support\n",
      "\n",
      "           0       0.97      0.89      0.93       725\n",
      "           1       0.53      0.80      0.64       111\n",
      "\n",
      "    accuracy                           0.88       836\n",
      "   macro avg       0.75      0.85      0.78       836\n",
      "weighted avg       0.91      0.88      0.89       836\n",
      "\n"
     ]
    }
   ],
   "source": [
    "print(classification_report(y_test,y_pred))"
   ]
  },
  {
   "cell_type": "markdown",
   "id": "e5130e80",
   "metadata": {},
   "source": [
    "### Multinomial NB"
   ]
  },
  {
   "cell_type": "code",
   "execution_count": 80,
   "id": "68cd6995",
   "metadata": {},
   "outputs": [
    {
     "data": {
      "text/plain": [
       "MultinomialNB()"
      ]
     },
     "execution_count": 80,
     "metadata": {},
     "output_type": "execute_result"
    }
   ],
   "source": [
    "model4 = MultinomialNB()\n",
    "model4.fit(X_train_features.toarray() , y_train)"
   ]
  },
  {
   "cell_type": "code",
   "execution_count": 81,
   "id": "82df943f",
   "metadata": {},
   "outputs": [],
   "source": [
    "# prediction on training data\n",
    "\n",
    "prediction_on_training_data = model4.predict(X_train_features.toarray())\n",
    "accuracy_on_training_data = accuracy_score(y_train, prediction_on_training_data)"
   ]
  },
  {
   "cell_type": "code",
   "execution_count": 82,
   "id": "6526d901",
   "metadata": {},
   "outputs": [
    {
     "name": "stdout",
     "output_type": "stream",
     "text": [
      "Accuracy on training data :  0.9921667159326042\n"
     ]
    }
   ],
   "source": [
    "print('Accuracy on training data : ', accuracy_on_training_data)"
   ]
  },
  {
   "cell_type": "code",
   "execution_count": 83,
   "id": "65b33610",
   "metadata": {},
   "outputs": [],
   "source": [
    "# prediction on test data\n",
    "\n",
    "y_pred = model4.predict(X_test_features.toarray())\n",
    "accuracy_on_test_data = accuracy_score(y_test, y_pred)"
   ]
  },
  {
   "cell_type": "code",
   "execution_count": 84,
   "id": "68e92374",
   "metadata": {},
   "outputs": [
    {
     "name": "stdout",
     "output_type": "stream",
     "text": [
      "Accuracy on test data :  0.9808612440191388\n"
     ]
    }
   ],
   "source": [
    "print('Accuracy on test data : ', accuracy_on_test_data)"
   ]
  },
  {
   "cell_type": "code",
   "execution_count": 85,
   "id": "87a8313b",
   "metadata": {},
   "outputs": [
    {
     "name": "stdout",
     "output_type": "stream",
     "text": [
      "              precision    recall  f1-score   support\n",
      "\n",
      "           0       1.00      0.98      0.99       725\n",
      "           1       0.89      0.97      0.93       111\n",
      "\n",
      "    accuracy                           0.98       836\n",
      "   macro avg       0.94      0.98      0.96       836\n",
      "weighted avg       0.98      0.98      0.98       836\n",
      "\n"
     ]
    }
   ],
   "source": [
    "print(classification_report(y_test,y_pred))"
   ]
  },
  {
   "cell_type": "markdown",
   "id": "906fb3e9",
   "metadata": {},
   "source": [
    "# The Logistic Regression model gives the best accuracy of 98.9%."
   ]
  }
 ],
 "metadata": {
  "kernelspec": {
   "display_name": "Python 3",
   "language": "python",
   "name": "python3"
  },
  "language_info": {
   "codemirror_mode": {
    "name": "ipython",
    "version": 3
   },
   "file_extension": ".py",
   "mimetype": "text/x-python",
   "name": "python",
   "nbconvert_exporter": "python",
   "pygments_lexer": "ipython3",
   "version": "3.8.8"
  }
 },
 "nbformat": 4,
 "nbformat_minor": 5
}
