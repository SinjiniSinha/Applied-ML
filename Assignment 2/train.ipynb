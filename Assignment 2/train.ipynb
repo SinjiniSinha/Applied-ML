{
  "cells": [
    {
      "cell_type": "code",
      "execution_count": 103,
      "id": "2bc3ec6c",
      "metadata": {
        "id": "2bc3ec6c"
      },
      "outputs": [],
      "source": [
        "import pandas as pd\n",
        "import sklearn\n",
        "import numpy as np\n",
        "import matplotlib.pyplot as plt\n",
        "from sklearn.feature_extraction.text import TfidfVectorizer\n",
        "from sklearn.linear_model import LogisticRegression\n",
        "from sklearn.metrics import accuracy_score, classification_report, confusion_matrix, ConfusionMatrixDisplay, precision_recall_curve, auc\n",
        "from sklearn.neural_network import MLPClassifier\n",
        "from sklearn.naive_bayes import GaussianNB, MultinomialNB\n",
        "from sklearn.utils import resample\n",
        "from urllib.parse import urlparse\n",
        "import mlflow\n",
        "import mlflow.sklearn\n",
        "import logging\n",
        "\n",
        "logging.basicConfig(level=logging.WARN)\n",
        "logger = logging.getLogger(__name__)"
      ]
    },
    {
      "cell_type": "code",
      "execution_count": 104,
      "id": "f6785d16",
      "metadata": {
        "id": "f6785d16"
      },
      "outputs": [],
      "source": [
        "train=pd.read_csv(\"train.csv\")\n",
        "val=pd.read_csv(\"validation.csv\")\n",
        "test=pd.read_csv(\"test.csv\")"
      ]
    },
    {
      "cell_type": "code",
      "execution_count": 105,
      "id": "ef30d3ef",
      "metadata": {
        "colab": {
          "base_uri": "https://localhost:8080/"
        },
        "id": "ef30d3ef",
        "outputId": "20c45f7f-04fa-45ce-d981-c6c40152d106"
      },
      "outputs": [
        {
          "output_type": "stream",
          "name": "stdout",
          "text": [
            "Train size = 3900\n",
            "Test size = 836\n",
            "Validation size = 836\n"
          ]
        }
      ],
      "source": [
        "print(\"Train size =\",len(train))\n",
        "print(\"Test size =\",len(test))\n",
        "print(\"Validation size =\",len(val))"
      ]
    },
    {
      "cell_type": "code",
      "execution_count": 106,
      "id": "4d81ab3d",
      "metadata": {
        "id": "4d81ab3d"
      },
      "outputs": [],
      "source": [
        "y_train,X_train=train[\"label\"],train[\"text\"]\n",
        "y_val,X_val=val[\"label\"],val[\"text\"]\n",
        "y_test,X_test=val[\"label\"],val[\"text\"]"
      ]
    },
    {
      "cell_type": "code",
      "execution_count": 107,
      "id": "71563070",
      "metadata": {
        "colab": {
          "base_uri": "https://localhost:8080/"
        },
        "id": "71563070",
        "outputId": "17ab410a-3f18-4a47-b627-a407731ff2ea"
      },
      "outputs": [
        {
          "output_type": "execute_result",
          "data": {
            "text/plain": [
              "0    3383\n",
              "1     517\n",
              "Name: label, dtype: int64"
            ]
          },
          "metadata": {},
          "execution_count": 107
        }
      ],
      "source": [
        "train['label'].value_counts()"
      ]
    },
    {
      "cell_type": "markdown",
      "id": "97b51bee",
      "metadata": {
        "id": "97b51bee"
      },
      "source": [
        "Highly imbalanced data. Hence, we oversample the minority class."
      ]
    },
    {
      "cell_type": "code",
      "execution_count": 108,
      "id": "0a8b2040",
      "metadata": {
        "id": "0a8b2040"
      },
      "outputs": [],
      "source": [
        "train_majority = train[train[\"label\"]==0]\n",
        "train_minority = train[train[\"label\"]==1]"
      ]
    },
    {
      "cell_type": "code",
      "execution_count": 109,
      "id": "244a910f",
      "metadata": {
        "id": "244a910f"
      },
      "outputs": [],
      "source": [
        "train_minority_upsampled = resample(train_minority, \n",
        "                                 replace=True,     # sample with replacement\n",
        "                                 n_samples=len(train_majority),    # to match majority class\n",
        "                                 random_state=1234) # reproducible results"
      ]
    },
    {
      "cell_type": "code",
      "execution_count": 110,
      "id": "2d3ce19c",
      "metadata": {
        "id": "2d3ce19c"
      },
      "outputs": [],
      "source": [
        "train = pd.concat([train_majority, train_minority_upsampled])"
      ]
    },
    {
      "cell_type": "code",
      "execution_count": 111,
      "id": "8840ca43",
      "metadata": {
        "id": "8840ca43"
      },
      "outputs": [],
      "source": [
        "y_train,X_train=train[\"label\"],train[\"text\"]\n",
        "y_val,X_val=val[\"label\"],val[\"text\"]\n",
        "y_test,X_test=val[\"label\"],val[\"text\"]"
      ]
    },
    {
      "cell_type": "code",
      "execution_count": 112,
      "id": "e115d356",
      "metadata": {
        "colab": {
          "base_uri": "https://localhost:8080/"
        },
        "id": "e115d356",
        "outputId": "6d689cd9-3c8f-4d32-e0c5-1cf00b82b751"
      },
      "outputs": [
        {
          "output_type": "execute_result",
          "data": {
            "text/plain": [
              "0    3383\n",
              "1    3383\n",
              "Name: label, dtype: int64"
            ]
          },
          "metadata": {},
          "execution_count": 112
        }
      ],
      "source": [
        "train['label'].value_counts()"
      ]
    },
    {
      "cell_type": "code",
      "execution_count": 113,
      "id": "78c72d94",
      "metadata": {
        "id": "78c72d94"
      },
      "outputs": [],
      "source": [
        "# transform the text data to feature vectors that can be used as input to the Logistic regression\n",
        "\n",
        "feature_extraction = TfidfVectorizer(min_df = 1, stop_words='english', lowercase='True',max_features=500)\n",
        "\n",
        "X_train_features = feature_extraction.fit_transform(X_train)\n",
        "X_test_features = feature_extraction.transform(X_test)\n",
        "\n",
        "# convert Y_train and Y_test values as integers\n",
        "\n",
        "y_train = y_train.astype('int')\n",
        "y_test = y_test.astype('int')"
      ]
    },
    {
      "cell_type": "code",
      "execution_count": 114,
      "id": "dc95f93c",
      "metadata": {
        "colab": {
          "base_uri": "https://localhost:8080/"
        },
        "id": "dc95f93c",
        "outputId": "e37e01c0-59a9-45cd-d2ec-f378b3cc0856"
      },
      "outputs": [
        {
          "output_type": "stream",
          "name": "stdout",
          "text": [
            "(6766,)\n",
            "(6766, 500)\n"
          ]
        }
      ],
      "source": [
        "print(X_train.shape)\n",
        "print(X_train_features.shape)"
      ]
    },
    {
      "cell_type": "markdown",
      "id": "fc6938db",
      "metadata": {
        "id": "fc6938db"
      },
      "source": [
        "# Logistic Regression"
      ]
    },
    {
      "cell_type": "code",
      "execution_count": 115,
      "id": "1c605151",
      "metadata": {
        "id": "1c605151"
      },
      "outputs": [],
      "source": [
        "model1 = LogisticRegression()"
      ]
    },
    {
      "cell_type": "code",
      "execution_count": 116,
      "id": "3dc4b3f5",
      "metadata": {
        "colab": {
          "base_uri": "https://localhost:8080/"
        },
        "id": "3dc4b3f5",
        "outputId": "5c477f2f-e1c8-4f0b-db8e-8c9cc8b7d4c7"
      },
      "outputs": [
        {
          "output_type": "execute_result",
          "data": {
            "text/plain": [
              "LogisticRegression()"
            ]
          },
          "metadata": {},
          "execution_count": 116
        }
      ],
      "source": [
        "# training the Logistic Regression model with the training data\n",
        "model1.fit(X_train_features, y_train)"
      ]
    },
    {
      "cell_type": "code",
      "execution_count": 117,
      "id": "36c012a9",
      "metadata": {
        "id": "36c012a9"
      },
      "outputs": [],
      "source": [
        "# prediction on training data\n",
        "\n",
        "prediction_on_training_data = model1.predict(X_train_features)\n",
        "accuracy_on_training_data = accuracy_score(y_train, prediction_on_training_data)"
      ]
    },
    {
      "cell_type": "code",
      "execution_count": 118,
      "id": "a0bc8133",
      "metadata": {
        "colab": {
          "base_uri": "https://localhost:8080/"
        },
        "id": "a0bc8133",
        "outputId": "a4626ac4-be15-4377-9617-bba8590d7cfe"
      },
      "outputs": [
        {
          "output_type": "stream",
          "name": "stdout",
          "text": [
            "Accuracy on training data :  0.9804906887378066\n"
          ]
        }
      ],
      "source": [
        "print('Accuracy on training data : ', accuracy_on_training_data)"
      ]
    },
    {
      "cell_type": "code",
      "execution_count": 119,
      "id": "572f5f30",
      "metadata": {
        "id": "572f5f30"
      },
      "outputs": [],
      "source": [
        "# prediction on test data\n",
        "\n",
        "y_pred = model1.predict(X_test_features)\n",
        "accuracy_on_test_data = accuracy_score(y_test, y_pred)"
      ]
    },
    {
      "cell_type": "code",
      "execution_count": 120,
      "id": "5aea1525",
      "metadata": {
        "colab": {
          "base_uri": "https://localhost:8080/"
        },
        "id": "5aea1525",
        "outputId": "c921b25d-b4f6-4265-aa5f-a93b571ec6e9"
      },
      "outputs": [
        {
          "output_type": "stream",
          "name": "stdout",
          "text": [
            "Accuracy on test data :  0.9808612440191388\n"
          ]
        }
      ],
      "source": [
        "print('Accuracy on test data : ', accuracy_on_test_data)"
      ]
    },
    {
      "cell_type": "code",
      "execution_count": 121,
      "id": "5f994b81",
      "metadata": {
        "colab": {
          "base_uri": "https://localhost:8080/"
        },
        "id": "5f994b81",
        "outputId": "e721915e-db6a-40c9-9766-dd3f5a980184"
      },
      "outputs": [
        {
          "output_type": "stream",
          "name": "stdout",
          "text": [
            "              precision    recall  f1-score   support\n",
            "\n",
            "           0       0.99      0.98      0.99       725\n",
            "           1       0.91      0.95      0.93       111\n",
            "\n",
            "    accuracy                           0.98       836\n",
            "   macro avg       0.95      0.97      0.96       836\n",
            "weighted avg       0.98      0.98      0.98       836\n",
            "\n"
          ]
        }
      ],
      "source": [
        "print(classification_report(y_test,y_pred))"
      ]
    },
    {
      "cell_type": "code",
      "source": [
        "cm = confusion_matrix(y_test, y_pred, labels=model1.classes_)\n",
        "disp = ConfusionMatrixDisplay(confusion_matrix=cm,display_labels=model1.classes_)\n",
        "disp.plot()\n",
        "plt.show()"
      ],
      "metadata": {
        "colab": {
          "base_uri": "https://localhost:8080/",
          "height": 279
        },
        "id": "vni4UXn03M9i",
        "outputId": "16113d53-b82f-4b71-86f7-62a844339b24"
      },
      "id": "vni4UXn03M9i",
      "execution_count": 122,
      "outputs": [
        {
          "output_type": "display_data",
          "data": {
            "text/plain": [
              "<Figure size 432x288 with 2 Axes>"
            ],
            "image/png": "[encoded data removed]"
          },
          "metadata": {
            "needs_background": "light"
          }
        }
      ]
    },
    {
      "cell_type": "code",
      "source": [
        "def eval_metrics(actual, pred):\n",
        "    prec, recall,_ = precision_recall_curve(actual, pred)\n",
        "    aucpr = auc(recall, prec)\n",
        "    return aucpr"
      ],
      "metadata": {
        "id": "aaJmjVF232y9"
      },
      "id": "aaJmjVF232y9",
      "execution_count": 123,
      "outputs": []
    },
    {
      "cell_type": "code",
      "source": [
        "with mlflow.start_run():\n",
        "        lr = LogisticRegression()\n",
        "        lr.fit(X_train_features, y_train)\n",
        "\n",
        "        predicted_qualities = lr.predict(X_test_features)\n",
        "\n",
        "        aucpr = eval_metrics(y_test, predicted_qualities)\n",
        "\n",
        "        print(\"Logistic Regression model (Area under Precision_Recall Curve={:f}):\".format(aucpr))\n",
        "      \n",
        "        mlflow.log_param(\"Area under Precision Recall Curve\", aucpr)\n",
        "        \n",
        "        tracking_url_type_store = urlparse(mlflow.get_tracking_uri()).scheme\n",
        "\n",
        "        # Model registry does not work with file store\n",
        "        if tracking_url_type_store != \"file\":\n",
        "\n",
        "            mlflow.sklearn.log_model(lr, \"model\", registered_model_name=\"LogisticRegressionModel\")\n",
        "        else:\n",
        "            mlflow.sklearn.log_model(lr, \"model\")"
      ],
      "metadata": {
        "colab": {
          "base_uri": "https://localhost:8080/"
        },
        "id": "Ua0EbuUL34cq",
        "outputId": "94488e23-4101-4204-f458-aa1d1c3b0284"
      },
      "id": "Ua0EbuUL34cq",
      "execution_count": 124,
      "outputs": [
        {
          "output_type": "stream",
          "name": "stdout",
          "text": [
            "Logistic Regression model (Area under Precision_Recall Curve=0.933459):\n"
          ]
        }
      ]
    },
    {
      "cell_type": "code",
      "source": [
        "!zip -r /content/mlrunsLR.zip /content/mlruns"
      ],
      "metadata": {
        "colab": {
          "base_uri": "https://localhost:8080/"
        },
        "id": "7ogTuoBk9Xbj",
        "outputId": "74678fec-76a8-4691-c6ba-71e0fe751b48"
      },
      "id": "7ogTuoBk9Xbj",
      "execution_count": 125,
      "outputs": [
        {
          "output_type": "stream",
          "name": "stdout",
          "text": [
            "updating: content/mlruns/ (stored 0%)\n",
            "updating: content/mlruns/.trash/ (stored 0%)\n",
            "updating: content/mlruns/0/ (stored 0%)\n",
            "updating: content/mlruns/0/2d098a1d725b4bb6a2bfed68d6c6c544/ (stored 0%)\n",
            "updating: content/mlruns/0/2d098a1d725b4bb6a2bfed68d6c6c544/params/ (stored 0%)\n",
            "updating: content/mlruns/0/2d098a1d725b4bb6a2bfed68d6c6c544/params/Area under Precision Recall Curve (stored 0%)\n",
            "updating: content/mlruns/0/2d098a1d725b4bb6a2bfed68d6c6c544/meta.yaml (deflated 44%)\n",
            "updating: content/mlruns/0/2d098a1d725b4bb6a2bfed68d6c6c544/tags/ (stored 0%)\n",
            "updating: content/mlruns/0/2d098a1d725b4bb6a2bfed68d6c6c544/tags/mlflow.runName (stored 0%)\n",
            "updating: content/mlruns/0/2d098a1d725b4bb6a2bfed68d6c6c544/tags/mlflow.log-model.history (deflated 44%)\n",
            "updating: content/mlruns/0/2d098a1d725b4bb6a2bfed68d6c6c544/tags/mlflow.user (stored 0%)\n",
            "updating: content/mlruns/0/2d098a1d725b4bb6a2bfed68d6c6c544/tags/mlflow.source.type (stored 0%)\n",
            "updating: content/mlruns/0/2d098a1d725b4bb6a2bfed68d6c6c544/tags/mlflow.source.name (stored 0%)\n",
            "updating: content/mlruns/0/2d098a1d725b4bb6a2bfed68d6c6c544/artifacts/ (stored 0%)\n",
            "updating: content/mlruns/0/2d098a1d725b4bb6a2bfed68d6c6c544/artifacts/model/ (stored 0%)\n",
            "updating: content/mlruns/0/2d098a1d725b4bb6a2bfed68d6c6c544/artifacts/model/model.pkl (deflated 8%)\n",
            "updating: content/mlruns/0/2d098a1d725b4bb6a2bfed68d6c6c544/artifacts/model/conda.yaml (deflated 30%)\n",
            "updating: content/mlruns/0/2d098a1d725b4bb6a2bfed68d6c6c544/artifacts/model/MLmodel (deflated 43%)\n",
            "updating: content/mlruns/0/2d098a1d725b4bb6a2bfed68d6c6c544/artifacts/model/python_env.yaml (deflated 17%)\n",
            "updating: content/mlruns/0/2d098a1d725b4bb6a2bfed68d6c6c544/artifacts/model/requirements.txt (deflated 14%)\n",
            "updating: content/mlruns/0/2d098a1d725b4bb6a2bfed68d6c6c544/metrics/ (stored 0%)\n",
            "updating: content/mlruns/0/7fdd0809709e4e35ad83d1df55be63a6/ (stored 0%)\n",
            "updating: content/mlruns/0/7fdd0809709e4e35ad83d1df55be63a6/params/ (stored 0%)\n",
            "updating: content/mlruns/0/7fdd0809709e4e35ad83d1df55be63a6/params/Area under Precision Recall Curve (stored 0%)\n",
            "updating: content/mlruns/0/7fdd0809709e4e35ad83d1df55be63a6/meta.yaml (deflated 44%)\n",
            "updating: content/mlruns/0/7fdd0809709e4e35ad83d1df55be63a6/tags/ (stored 0%)\n",
            "updating: content/mlruns/0/7fdd0809709e4e35ad83d1df55be63a6/tags/mlflow.runName (stored 0%)\n",
            "updating: content/mlruns/0/7fdd0809709e4e35ad83d1df55be63a6/tags/mlflow.log-model.history (deflated 43%)\n",
            "updating: content/mlruns/0/7fdd0809709e4e35ad83d1df55be63a6/tags/mlflow.user (stored 0%)\n",
            "updating: content/mlruns/0/7fdd0809709e4e35ad83d1df55be63a6/tags/mlflow.source.type (stored 0%)\n",
            "updating: content/mlruns/0/7fdd0809709e4e35ad83d1df55be63a6/tags/mlflow.source.name (stored 0%)\n",
            "updating: content/mlruns/0/7fdd0809709e4e35ad83d1df55be63a6/artifacts/ (stored 0%)\n",
            "updating: content/mlruns/0/7fdd0809709e4e35ad83d1df55be63a6/artifacts/model/ (stored 0%)\n",
            "updating: content/mlruns/0/7fdd0809709e4e35ad83d1df55be63a6/artifacts/model/model.pkl (deflated 8%)\n",
            "updating: content/mlruns/0/7fdd0809709e4e35ad83d1df55be63a6/artifacts/model/conda.yaml (deflated 30%)\n",
            "updating: content/mlruns/0/7fdd0809709e4e35ad83d1df55be63a6/artifacts/model/MLmodel (deflated 43%)\n",
            "updating: content/mlruns/0/7fdd0809709e4e35ad83d1df55be63a6/artifacts/model/python_env.yaml (deflated 17%)\n",
            "updating: content/mlruns/0/7fdd0809709e4e35ad83d1df55be63a6/artifacts/model/requirements.txt (deflated 14%)\n",
            "updating: content/mlruns/0/7fdd0809709e4e35ad83d1df55be63a6/metrics/ (stored 0%)\n",
            "updating: content/mlruns/0/03eb5a7e9c6b45d68de04f80e9178382/ (stored 0%)\n",
            "updating: content/mlruns/0/03eb5a7e9c6b45d68de04f80e9178382/params/ (stored 0%)\n",
            "updating: content/mlruns/0/03eb5a7e9c6b45d68de04f80e9178382/params/Area under Precision Recall Curve (stored 0%)\n",
            "updating: content/mlruns/0/03eb5a7e9c6b45d68de04f80e9178382/meta.yaml (deflated 44%)\n",
            "updating: content/mlruns/0/03eb5a7e9c6b45d68de04f80e9178382/tags/ (stored 0%)\n",
            "updating: content/mlruns/0/03eb5a7e9c6b45d68de04f80e9178382/tags/mlflow.runName (stored 0%)\n",
            "updating: content/mlruns/0/03eb5a7e9c6b45d68de04f80e9178382/tags/mlflow.log-model.history (deflated 43%)\n",
            "updating: content/mlruns/0/03eb5a7e9c6b45d68de04f80e9178382/tags/mlflow.user (stored 0%)\n",
            "updating: content/mlruns/0/03eb5a7e9c6b45d68de04f80e9178382/tags/mlflow.source.type (stored 0%)\n",
            "updating: content/mlruns/0/03eb5a7e9c6b45d68de04f80e9178382/tags/mlflow.source.name (stored 0%)\n",
            "updating: content/mlruns/0/03eb5a7e9c6b45d68de04f80e9178382/artifacts/ (stored 0%)\n",
            "updating: content/mlruns/0/03eb5a7e9c6b45d68de04f80e9178382/artifacts/model/ (stored 0%)\n",
            "updating: content/mlruns/0/03eb5a7e9c6b45d68de04f80e9178382/artifacts/model/model.pkl (deflated 8%)\n",
            "updating: content/mlruns/0/03eb5a7e9c6b45d68de04f80e9178382/artifacts/model/conda.yaml (deflated 30%)\n",
            "updating: content/mlruns/0/03eb5a7e9c6b45d68de04f80e9178382/artifacts/model/MLmodel (deflated 43%)\n",
            "updating: content/mlruns/0/03eb5a7e9c6b45d68de04f80e9178382/artifacts/model/python_env.yaml (deflated 17%)\n",
            "updating: content/mlruns/0/03eb5a7e9c6b45d68de04f80e9178382/artifacts/model/requirements.txt (deflated 14%)\n",
            "updating: content/mlruns/0/03eb5a7e9c6b45d68de04f80e9178382/metrics/ (stored 0%)\n",
            "updating: content/mlruns/0/meta.yaml (deflated 25%)\n",
            "updating: content/mlruns/0/5610a4ff52994acb83f5ab8d9e30570b/ (stored 0%)\n",
            "updating: content/mlruns/0/5610a4ff52994acb83f5ab8d9e30570b/params/ (stored 0%)\n",
            "updating: content/mlruns/0/5610a4ff52994acb83f5ab8d9e30570b/params/Area under Precision Recall Curve (stored 0%)\n",
            "updating: content/mlruns/0/5610a4ff52994acb83f5ab8d9e30570b/meta.yaml (deflated 44%)\n",
            "updating: content/mlruns/0/5610a4ff52994acb83f5ab8d9e30570b/tags/ (stored 0%)\n",
            "updating: content/mlruns/0/5610a4ff52994acb83f5ab8d9e30570b/tags/mlflow.runName (stored 0%)\n",
            "updating: content/mlruns/0/5610a4ff52994acb83f5ab8d9e30570b/tags/mlflow.log-model.history (deflated 43%)\n",
            "updating: content/mlruns/0/5610a4ff52994acb83f5ab8d9e30570b/tags/mlflow.user (stored 0%)\n",
            "updating: content/mlruns/0/5610a4ff52994acb83f5ab8d9e30570b/tags/mlflow.source.type (stored 0%)\n",
            "updating: content/mlruns/0/5610a4ff52994acb83f5ab8d9e30570b/tags/mlflow.source.name (stored 0%)\n",
            "updating: content/mlruns/0/5610a4ff52994acb83f5ab8d9e30570b/artifacts/ (stored 0%)\n",
            "updating: content/mlruns/0/5610a4ff52994acb83f5ab8d9e30570b/artifacts/model/ (stored 0%)\n",
            "updating: content/mlruns/0/5610a4ff52994acb83f5ab8d9e30570b/artifacts/model/model.pkl (deflated 8%)\n",
            "updating: content/mlruns/0/5610a4ff52994acb83f5ab8d9e30570b/artifacts/model/conda.yaml (deflated 30%)\n",
            "updating: content/mlruns/0/5610a4ff52994acb83f5ab8d9e30570b/artifacts/model/MLmodel (deflated 43%)\n",
            "updating: content/mlruns/0/5610a4ff52994acb83f5ab8d9e30570b/artifacts/model/python_env.yaml (deflated 17%)\n",
            "updating: content/mlruns/0/5610a4ff52994acb83f5ab8d9e30570b/artifacts/model/requirements.txt (deflated 14%)\n",
            "updating: content/mlruns/0/5610a4ff52994acb83f5ab8d9e30570b/metrics/ (stored 0%)\n",
            "updating: content/mlruns/0/18d034ebd8ec414b91be110f1ec5d283/ (stored 0%)\n",
            "updating: content/mlruns/0/18d034ebd8ec414b91be110f1ec5d283/params/ (stored 0%)\n",
            "updating: content/mlruns/0/18d034ebd8ec414b91be110f1ec5d283/params/Area under Precision Recall Curve (stored 0%)\n",
            "updating: content/mlruns/0/18d034ebd8ec414b91be110f1ec5d283/meta.yaml (deflated 44%)\n",
            "updating: content/mlruns/0/18d034ebd8ec414b91be110f1ec5d283/tags/ (stored 0%)\n",
            "updating: content/mlruns/0/18d034ebd8ec414b91be110f1ec5d283/tags/mlflow.runName (stored 0%)\n",
            "updating: content/mlruns/0/18d034ebd8ec414b91be110f1ec5d283/tags/mlflow.log-model.history (deflated 43%)\n",
            "updating: content/mlruns/0/18d034ebd8ec414b91be110f1ec5d283/tags/mlflow.user (stored 0%)\n",
            "updating: content/mlruns/0/18d034ebd8ec414b91be110f1ec5d283/tags/mlflow.source.type (stored 0%)\n",
            "updating: content/mlruns/0/18d034ebd8ec414b91be110f1ec5d283/tags/mlflow.source.name (stored 0%)\n",
            "updating: content/mlruns/0/18d034ebd8ec414b91be110f1ec5d283/artifacts/ (stored 0%)\n",
            "updating: content/mlruns/0/18d034ebd8ec414b91be110f1ec5d283/artifacts/model/ (stored 0%)\n",
            "updating: content/mlruns/0/18d034ebd8ec414b91be110f1ec5d283/artifacts/model/model.pkl (deflated 4%)\n",
            "updating: content/mlruns/0/18d034ebd8ec414b91be110f1ec5d283/artifacts/model/conda.yaml (deflated 30%)\n",
            "updating: content/mlruns/0/18d034ebd8ec414b91be110f1ec5d283/artifacts/model/MLmodel (deflated 43%)\n",
            "updating: content/mlruns/0/18d034ebd8ec414b91be110f1ec5d283/artifacts/model/python_env.yaml (deflated 17%)\n",
            "updating: content/mlruns/0/18d034ebd8ec414b91be110f1ec5d283/artifacts/model/requirements.txt (deflated 14%)\n",
            "updating: content/mlruns/0/18d034ebd8ec414b91be110f1ec5d283/metrics/ (stored 0%)\n",
            "updating: content/mlruns/0/3dc2c0617fb948bf8ba6bc9cd2d76ad2/ (stored 0%)\n",
            "updating: content/mlruns/0/3dc2c0617fb948bf8ba6bc9cd2d76ad2/params/ (stored 0%)\n",
            "updating: content/mlruns/0/3dc2c0617fb948bf8ba6bc9cd2d76ad2/params/Area under Precision Recall Curve (stored 0%)\n",
            "updating: content/mlruns/0/3dc2c0617fb948bf8ba6bc9cd2d76ad2/meta.yaml (deflated 44%)\n",
            "updating: content/mlruns/0/3dc2c0617fb948bf8ba6bc9cd2d76ad2/tags/ (stored 0%)\n",
            "updating: content/mlruns/0/3dc2c0617fb948bf8ba6bc9cd2d76ad2/tags/mlflow.runName (stored 0%)\n",
            "updating: content/mlruns/0/3dc2c0617fb948bf8ba6bc9cd2d76ad2/tags/mlflow.log-model.history (deflated 43%)\n",
            "updating: content/mlruns/0/3dc2c0617fb948bf8ba6bc9cd2d76ad2/tags/mlflow.user (stored 0%)\n",
            "updating: content/mlruns/0/3dc2c0617fb948bf8ba6bc9cd2d76ad2/tags/mlflow.source.type (stored 0%)\n",
            "updating: content/mlruns/0/3dc2c0617fb948bf8ba6bc9cd2d76ad2/tags/mlflow.source.name (stored 0%)\n",
            "updating: content/mlruns/0/3dc2c0617fb948bf8ba6bc9cd2d76ad2/artifacts/ (stored 0%)\n",
            "updating: content/mlruns/0/3dc2c0617fb948bf8ba6bc9cd2d76ad2/artifacts/model/ (stored 0%)\n",
            "updating: content/mlruns/0/3dc2c0617fb948bf8ba6bc9cd2d76ad2/artifacts/model/model.pkl (deflated 8%)\n",
            "updating: content/mlruns/0/3dc2c0617fb948bf8ba6bc9cd2d76ad2/artifacts/model/conda.yaml (deflated 30%)\n",
            "updating: content/mlruns/0/3dc2c0617fb948bf8ba6bc9cd2d76ad2/artifacts/model/MLmodel (deflated 43%)\n",
            "updating: content/mlruns/0/3dc2c0617fb948bf8ba6bc9cd2d76ad2/artifacts/model/python_env.yaml (deflated 17%)\n",
            "updating: content/mlruns/0/3dc2c0617fb948bf8ba6bc9cd2d76ad2/artifacts/model/requirements.txt (deflated 14%)\n",
            "updating: content/mlruns/0/3dc2c0617fb948bf8ba6bc9cd2d76ad2/metrics/ (stored 0%)\n",
            "updating: content/mlruns/0/3b127ea6c1144c62b21641eb715a0d52/ (stored 0%)\n",
            "updating: content/mlruns/0/3b127ea6c1144c62b21641eb715a0d52/params/ (stored 0%)\n",
            "updating: content/mlruns/0/3b127ea6c1144c62b21641eb715a0d52/params/Area under Precision Recall Curve (stored 0%)\n",
            "updating: content/mlruns/0/3b127ea6c1144c62b21641eb715a0d52/meta.yaml (deflated 44%)\n",
            "updating: content/mlruns/0/3b127ea6c1144c62b21641eb715a0d52/tags/ (stored 0%)\n",
            "updating: content/mlruns/0/3b127ea6c1144c62b21641eb715a0d52/tags/mlflow.runName (stored 0%)\n",
            "updating: content/mlruns/0/3b127ea6c1144c62b21641eb715a0d52/tags/mlflow.log-model.history (deflated 44%)\n",
            "updating: content/mlruns/0/3b127ea6c1144c62b21641eb715a0d52/tags/mlflow.user (stored 0%)\n",
            "updating: content/mlruns/0/3b127ea6c1144c62b21641eb715a0d52/tags/mlflow.source.type (stored 0%)\n",
            "updating: content/mlruns/0/3b127ea6c1144c62b21641eb715a0d52/tags/mlflow.source.name (stored 0%)\n",
            "updating: content/mlruns/0/3b127ea6c1144c62b21641eb715a0d52/artifacts/ (stored 0%)\n",
            "updating: content/mlruns/0/3b127ea6c1144c62b21641eb715a0d52/artifacts/model/ (stored 0%)\n",
            "updating: content/mlruns/0/3b127ea6c1144c62b21641eb715a0d52/artifacts/model/model.pkl (deflated 8%)\n",
            "updating: content/mlruns/0/3b127ea6c1144c62b21641eb715a0d52/artifacts/model/conda.yaml (deflated 30%)\n",
            "updating: content/mlruns/0/3b127ea6c1144c62b21641eb715a0d52/artifacts/model/MLmodel (deflated 43%)\n",
            "updating: content/mlruns/0/3b127ea6c1144c62b21641eb715a0d52/artifacts/model/python_env.yaml (deflated 17%)\n",
            "updating: content/mlruns/0/3b127ea6c1144c62b21641eb715a0d52/artifacts/model/requirements.txt (deflated 14%)\n",
            "updating: content/mlruns/0/3b127ea6c1144c62b21641eb715a0d52/metrics/ (stored 0%)\n",
            "  adding: content/mlruns/0/4a71a3776bf94e4b9d42d1c67ad1de56/ (stored 0%)\n",
            "  adding: content/mlruns/0/4a71a3776bf94e4b9d42d1c67ad1de56/params/ (stored 0%)\n",
            "  adding: content/mlruns/0/4a71a3776bf94e4b9d42d1c67ad1de56/params/Area under Precision Recall Curve (stored 0%)\n",
            "  adding: content/mlruns/0/4a71a3776bf94e4b9d42d1c67ad1de56/meta.yaml (deflated 45%)\n",
            "  adding: content/mlruns/0/4a71a3776bf94e4b9d42d1c67ad1de56/tags/ (stored 0%)\n",
            "  adding: content/mlruns/0/4a71a3776bf94e4b9d42d1c67ad1de56/tags/mlflow.runName (stored 0%)\n",
            "  adding: content/mlruns/0/4a71a3776bf94e4b9d42d1c67ad1de56/tags/mlflow.log-model.history (deflated 44%)\n",
            "  adding: content/mlruns/0/4a71a3776bf94e4b9d42d1c67ad1de56/tags/mlflow.user (stored 0%)\n",
            "  adding: content/mlruns/0/4a71a3776bf94e4b9d42d1c67ad1de56/tags/mlflow.source.type (stored 0%)\n",
            "  adding: content/mlruns/0/4a71a3776bf94e4b9d42d1c67ad1de56/tags/mlflow.source.name (stored 0%)\n",
            "  adding: content/mlruns/0/4a71a3776bf94e4b9d42d1c67ad1de56/artifacts/ (stored 0%)\n",
            "  adding: content/mlruns/0/4a71a3776bf94e4b9d42d1c67ad1de56/artifacts/model/ (stored 0%)\n",
            "  adding: content/mlruns/0/4a71a3776bf94e4b9d42d1c67ad1de56/artifacts/model/model.pkl (deflated 4%)\n",
            "  adding: content/mlruns/0/4a71a3776bf94e4b9d42d1c67ad1de56/artifacts/model/conda.yaml (deflated 30%)\n",
            "  adding: content/mlruns/0/4a71a3776bf94e4b9d42d1c67ad1de56/artifacts/model/MLmodel (deflated 43%)\n",
            "  adding: content/mlruns/0/4a71a3776bf94e4b9d42d1c67ad1de56/artifacts/model/python_env.yaml (deflated 17%)\n",
            "  adding: content/mlruns/0/4a71a3776bf94e4b9d42d1c67ad1de56/artifacts/model/requirements.txt (deflated 14%)\n",
            "  adding: content/mlruns/0/4a71a3776bf94e4b9d42d1c67ad1de56/metrics/ (stored 0%)\n",
            "  adding: content/mlruns/0/c195442891ca458aa97280421389410f/ (stored 0%)\n",
            "  adding: content/mlruns/0/c195442891ca458aa97280421389410f/params/ (stored 0%)\n",
            "  adding: content/mlruns/0/c195442891ca458aa97280421389410f/meta.yaml (deflated 44%)\n",
            "  adding: content/mlruns/0/c195442891ca458aa97280421389410f/tags/ (stored 0%)\n",
            "  adding: content/mlruns/0/c195442891ca458aa97280421389410f/tags/mlflow.runName (stored 0%)\n",
            "  adding: content/mlruns/0/c195442891ca458aa97280421389410f/tags/mlflow.user (stored 0%)\n",
            "  adding: content/mlruns/0/c195442891ca458aa97280421389410f/tags/mlflow.source.type (stored 0%)\n",
            "  adding: content/mlruns/0/c195442891ca458aa97280421389410f/tags/mlflow.source.name (stored 0%)\n",
            "  adding: content/mlruns/0/c195442891ca458aa97280421389410f/artifacts/ (stored 0%)\n",
            "  adding: content/mlruns/0/c195442891ca458aa97280421389410f/metrics/ (stored 0%)\n",
            "  adding: content/mlruns/0/198c4cd87c2540f4911a39a6a9b48e7a/ (stored 0%)\n",
            "  adding: content/mlruns/0/198c4cd87c2540f4911a39a6a9b48e7a/params/ (stored 0%)\n",
            "  adding: content/mlruns/0/198c4cd87c2540f4911a39a6a9b48e7a/meta.yaml (deflated 44%)\n",
            "  adding: content/mlruns/0/198c4cd87c2540f4911a39a6a9b48e7a/tags/ (stored 0%)\n",
            "  adding: content/mlruns/0/198c4cd87c2540f4911a39a6a9b48e7a/tags/mlflow.runName (stored 0%)\n",
            "  adding: content/mlruns/0/198c4cd87c2540f4911a39a6a9b48e7a/tags/mlflow.user (stored 0%)\n",
            "  adding: content/mlruns/0/198c4cd87c2540f4911a39a6a9b48e7a/tags/mlflow.source.type (stored 0%)\n",
            "  adding: content/mlruns/0/198c4cd87c2540f4911a39a6a9b48e7a/tags/mlflow.source.name (stored 0%)\n",
            "  adding: content/mlruns/0/198c4cd87c2540f4911a39a6a9b48e7a/artifacts/ (stored 0%)\n",
            "  adding: content/mlruns/0/198c4cd87c2540f4911a39a6a9b48e7a/metrics/ (stored 0%)\n",
            "  adding: content/mlruns/0/2580c46091734ccfb85c50119d0f3e38/ (stored 0%)\n",
            "  adding: content/mlruns/0/2580c46091734ccfb85c50119d0f3e38/params/ (stored 0%)\n",
            "  adding: content/mlruns/0/2580c46091734ccfb85c50119d0f3e38/params/Area under Precision Recall Curve (stored 0%)\n",
            "  adding: content/mlruns/0/2580c46091734ccfb85c50119d0f3e38/meta.yaml (deflated 44%)\n",
            "  adding: content/mlruns/0/2580c46091734ccfb85c50119d0f3e38/tags/ (stored 0%)\n",
            "  adding: content/mlruns/0/2580c46091734ccfb85c50119d0f3e38/tags/mlflow.runName (stored 0%)\n",
            "  adding: content/mlruns/0/2580c46091734ccfb85c50119d0f3e38/tags/mlflow.log-model.history (deflated 43%)\n",
            "  adding: content/mlruns/0/2580c46091734ccfb85c50119d0f3e38/tags/mlflow.user (stored 0%)\n",
            "  adding: content/mlruns/0/2580c46091734ccfb85c50119d0f3e38/tags/mlflow.source.type (stored 0%)\n",
            "  adding: content/mlruns/0/2580c46091734ccfb85c50119d0f3e38/tags/mlflow.source.name (stored 0%)\n",
            "  adding: content/mlruns/0/2580c46091734ccfb85c50119d0f3e38/artifacts/ (stored 0%)\n",
            "  adding: content/mlruns/0/2580c46091734ccfb85c50119d0f3e38/artifacts/model/ (stored 0%)\n",
            "  adding: content/mlruns/0/2580c46091734ccfb85c50119d0f3e38/artifacts/model/model.pkl (deflated 8%)\n",
            "  adding: content/mlruns/0/2580c46091734ccfb85c50119d0f3e38/artifacts/model/conda.yaml (deflated 30%)\n",
            "  adding: content/mlruns/0/2580c46091734ccfb85c50119d0f3e38/artifacts/model/MLmodel (deflated 43%)\n",
            "  adding: content/mlruns/0/2580c46091734ccfb85c50119d0f3e38/artifacts/model/python_env.yaml (deflated 17%)\n",
            "  adding: content/mlruns/0/2580c46091734ccfb85c50119d0f3e38/artifacts/model/requirements.txt (deflated 14%)\n",
            "  adding: content/mlruns/0/2580c46091734ccfb85c50119d0f3e38/metrics/ (stored 0%)\n",
            "  adding: content/mlruns/0/ba83cb8de0df4980ab0e7a7d78970d67/ (stored 0%)\n",
            "  adding: content/mlruns/0/ba83cb8de0df4980ab0e7a7d78970d67/params/ (stored 0%)\n",
            "  adding: content/mlruns/0/ba83cb8de0df4980ab0e7a7d78970d67/params/Area under Precision Recall Curve (stored 0%)\n",
            "  adding: content/mlruns/0/ba83cb8de0df4980ab0e7a7d78970d67/meta.yaml (deflated 44%)\n",
            "  adding: content/mlruns/0/ba83cb8de0df4980ab0e7a7d78970d67/tags/ (stored 0%)\n",
            "  adding: content/mlruns/0/ba83cb8de0df4980ab0e7a7d78970d67/tags/mlflow.runName (stored 0%)\n",
            "  adding: content/mlruns/0/ba83cb8de0df4980ab0e7a7d78970d67/tags/mlflow.log-model.history (deflated 43%)\n",
            "  adding: content/mlruns/0/ba83cb8de0df4980ab0e7a7d78970d67/tags/mlflow.user (stored 0%)\n",
            "  adding: content/mlruns/0/ba83cb8de0df4980ab0e7a7d78970d67/tags/mlflow.source.type (stored 0%)\n",
            "  adding: content/mlruns/0/ba83cb8de0df4980ab0e7a7d78970d67/tags/mlflow.source.name (stored 0%)\n",
            "  adding: content/mlruns/0/ba83cb8de0df4980ab0e7a7d78970d67/artifacts/ (stored 0%)\n",
            "  adding: content/mlruns/0/ba83cb8de0df4980ab0e7a7d78970d67/artifacts/model/ (stored 0%)\n",
            "  adding: content/mlruns/0/ba83cb8de0df4980ab0e7a7d78970d67/artifacts/model/model.pkl (deflated 4%)\n",
            "  adding: content/mlruns/0/ba83cb8de0df4980ab0e7a7d78970d67/artifacts/model/conda.yaml (deflated 30%)\n",
            "  adding: content/mlruns/0/ba83cb8de0df4980ab0e7a7d78970d67/artifacts/model/MLmodel (deflated 43%)\n",
            "  adding: content/mlruns/0/ba83cb8de0df4980ab0e7a7d78970d67/artifacts/model/python_env.yaml (deflated 17%)\n",
            "  adding: content/mlruns/0/ba83cb8de0df4980ab0e7a7d78970d67/artifacts/model/requirements.txt (deflated 14%)\n",
            "  adding: content/mlruns/0/ba83cb8de0df4980ab0e7a7d78970d67/metrics/ (stored 0%)\n",
            "  adding: content/mlruns/0/bab635451ad94a89a71f235f7c921cb6/ (stored 0%)\n",
            "  adding: content/mlruns/0/bab635451ad94a89a71f235f7c921cb6/params/ (stored 0%)\n",
            "  adding: content/mlruns/0/bab635451ad94a89a71f235f7c921cb6/params/Area under Precision Recall Curve (stored 0%)\n",
            "  adding: content/mlruns/0/bab635451ad94a89a71f235f7c921cb6/meta.yaml (deflated 44%)\n",
            "  adding: content/mlruns/0/bab635451ad94a89a71f235f7c921cb6/tags/ (stored 0%)\n",
            "  adding: content/mlruns/0/bab635451ad94a89a71f235f7c921cb6/tags/mlflow.runName (stored 0%)\n",
            "  adding: content/mlruns/0/bab635451ad94a89a71f235f7c921cb6/tags/mlflow.log-model.history (deflated 44%)\n",
            "  adding: content/mlruns/0/bab635451ad94a89a71f235f7c921cb6/tags/mlflow.user (stored 0%)\n",
            "  adding: content/mlruns/0/bab635451ad94a89a71f235f7c921cb6/tags/mlflow.source.type (stored 0%)\n",
            "  adding: content/mlruns/0/bab635451ad94a89a71f235f7c921cb6/tags/mlflow.source.name (stored 0%)\n",
            "  adding: content/mlruns/0/bab635451ad94a89a71f235f7c921cb6/artifacts/ (stored 0%)\n",
            "  adding: content/mlruns/0/bab635451ad94a89a71f235f7c921cb6/artifacts/model/ (stored 0%)\n",
            "  adding: content/mlruns/0/bab635451ad94a89a71f235f7c921cb6/artifacts/model/model.pkl (deflated 4%)\n",
            "  adding: content/mlruns/0/bab635451ad94a89a71f235f7c921cb6/artifacts/model/conda.yaml (deflated 30%)\n",
            "  adding: content/mlruns/0/bab635451ad94a89a71f235f7c921cb6/artifacts/model/MLmodel (deflated 43%)\n",
            "  adding: content/mlruns/0/bab635451ad94a89a71f235f7c921cb6/artifacts/model/python_env.yaml (deflated 17%)\n",
            "  adding: content/mlruns/0/bab635451ad94a89a71f235f7c921cb6/artifacts/model/requirements.txt (deflated 14%)\n",
            "  adding: content/mlruns/0/bab635451ad94a89a71f235f7c921cb6/metrics/ (stored 0%)\n"
          ]
        }
      ]
    },
    {
      "cell_type": "code",
      "source": [
        "from google.colab import files\n",
        "files.download(\"/content/mlrunsLR.zip\")"
      ],
      "metadata": {
        "colab": {
          "base_uri": "https://localhost:8080/",
          "height": 34
        },
        "id": "ZzhEUPE1-A3W",
        "outputId": "74fc4ab5-5156-4e9a-ceb7-7c894f080193"
      },
      "id": "ZzhEUPE1-A3W",
      "execution_count": 126,
      "outputs": [
        {
          "output_type": "display_data",
          "data": {
            "text/plain": [
              "<IPython.core.display.Javascript object>"
            ],
            "application/javascript": [
              "\n",
              "    async function download(id, filename, size) {\n",
              "      if (!google.colab.kernel.accessAllowed) {\n",
              "        return;\n",
              "      }\n",
              "      const div = document.createElement('div');\n",
              "      const label = document.createElement('label');\n",
              "      label.textContent = `Downloading \"${filename}\": `;\n",
              "      div.appendChild(label);\n",
              "      const progress = document.createElement('progress');\n",
              "      progress.max = size;\n",
              "      div.appendChild(progress);\n",
              "      document.body.appendChild(div);\n",
              "\n",
              "      const buffers = [];\n",
              "      let downloaded = 0;\n",
              "\n",
              "      const channel = await google.colab.kernel.comms.open(id);\n",
              "      // Send a message to notify the kernel that we're ready.\n",
              "      channel.send({})\n",
              "\n",
              "      for await (const message of channel.messages) {\n",
              "        // Send a message to notify the kernel that we're ready.\n",
              "        channel.send({})\n",
              "        if (message.buffers) {\n",
              "          for (const buffer of message.buffers) {\n",
              "            buffers.push(buffer);\n",
              "            downloaded += buffer.byteLength;\n",
              "            progress.value = downloaded;\n",
              "          }\n",
              "        }\n",
              "      }\n",
              "      const blob = new Blob(buffers, {type: 'application/binary'});\n",
              "      const a = document.createElement('a');\n",
              "      a.href = window.URL.createObjectURL(blob);\n",
              "      a.download = filename;\n",
              "      div.appendChild(a);\n",
              "      a.click();\n",
              "      div.remove();\n",
              "    }\n",
              "  "
            ]
          },
          "metadata": {}
        },
        {
          "output_type": "display_data",
          "data": {
            "text/plain": [
              "<IPython.core.display.Javascript object>"
            ],
            "application/javascript": [
              "download(\"download_69e5f3e4-4715-4561-9039-c90d7ba47309\", \"mlrunsLR.zip\", 4741754)"
            ]
          },
          "metadata": {}
        }
      ]
    },
    {
      "cell_type": "markdown",
      "id": "f0b71acd",
      "metadata": {
        "id": "f0b71acd"
      },
      "source": [
        "# MLP Classifier"
      ]
    },
    {
      "cell_type": "code",
      "execution_count": 127,
      "id": "a849cfa0",
      "metadata": {
        "colab": {
          "base_uri": "https://localhost:8080/"
        },
        "id": "a849cfa0",
        "outputId": "de298248-6d4a-48b3-9578-5ff8c4e02c1a"
      },
      "outputs": [
        {
          "output_type": "execute_result",
          "data": {
            "text/plain": [
              "MLPClassifier()"
            ]
          },
          "metadata": {},
          "execution_count": 127
        }
      ],
      "source": [
        "model2=MLPClassifier()\n",
        "model2.fit(X_train_features, y_train)"
      ]
    },
    {
      "cell_type": "code",
      "execution_count": 128,
      "id": "b18a9ee9",
      "metadata": {
        "id": "b18a9ee9"
      },
      "outputs": [],
      "source": [
        "# prediction on training data\n",
        "\n",
        "prediction_on_training_data = model2.predict(X_train_features)\n",
        "accuracy_on_training_data = accuracy_score(y_train, prediction_on_training_data)"
      ]
    },
    {
      "cell_type": "code",
      "execution_count": 129,
      "id": "48c8ca7e",
      "metadata": {
        "colab": {
          "base_uri": "https://localhost:8080/"
        },
        "id": "48c8ca7e",
        "outputId": "b1da45ff-2a06-4909-d820-b5594ec8f6e4"
      },
      "outputs": [
        {
          "output_type": "stream",
          "name": "stdout",
          "text": [
            "Accuracy on training data :  0.9948270765592669\n"
          ]
        }
      ],
      "source": [
        "print('Accuracy on training data : ', accuracy_on_training_data)"
      ]
    },
    {
      "cell_type": "code",
      "execution_count": 130,
      "id": "4901e6de",
      "metadata": {
        "id": "4901e6de"
      },
      "outputs": [],
      "source": [
        "# prediction on test data\n",
        "\n",
        "y_pred = model2.predict(X_test_features)\n",
        "accuracy_on_test_data = accuracy_score(y_test, y_pred)"
      ]
    },
    {
      "cell_type": "code",
      "execution_count": 131,
      "id": "adcc77a6",
      "metadata": {
        "colab": {
          "base_uri": "https://localhost:8080/"
        },
        "id": "adcc77a6",
        "outputId": "f0b2569f-9af1-4652-feaf-38c2fd234fd5"
      },
      "outputs": [
        {
          "output_type": "stream",
          "name": "stdout",
          "text": [
            "Accuracy on test data :  0.9784688995215312\n"
          ]
        }
      ],
      "source": [
        "print('Accuracy on test data : ', accuracy_on_test_data)"
      ]
    },
    {
      "cell_type": "code",
      "execution_count": 132,
      "id": "cbab85e5",
      "metadata": {
        "colab": {
          "base_uri": "https://localhost:8080/"
        },
        "id": "cbab85e5",
        "outputId": "58f620aa-fafe-4826-f978-d6c4dc01faaf"
      },
      "outputs": [
        {
          "output_type": "stream",
          "name": "stdout",
          "text": [
            "              precision    recall  f1-score   support\n",
            "\n",
            "           0       0.99      0.99      0.99       725\n",
            "           1       0.93      0.91      0.92       111\n",
            "\n",
            "    accuracy                           0.98       836\n",
            "   macro avg       0.96      0.95      0.95       836\n",
            "weighted avg       0.98      0.98      0.98       836\n",
            "\n"
          ]
        }
      ],
      "source": [
        "print(classification_report(y_test,y_pred))"
      ]
    },
    {
      "cell_type": "code",
      "source": [
        "cm = confusion_matrix(y_test, y_pred, labels=model2.classes_)\n",
        "disp = ConfusionMatrixDisplay(confusion_matrix=cm,display_labels=model2.classes_)\n",
        "disp.plot()\n",
        "plt.show()"
      ],
      "metadata": {
        "colab": {
          "base_uri": "https://localhost:8080/",
          "height": 279
        },
        "id": "S4Kwn-ew_NMG",
        "outputId": "655caec5-bcae-4ed0-9522-c1cd46aba57b"
      },
      "id": "S4Kwn-ew_NMG",
      "execution_count": 133,
      "outputs": [
        {
          "output_type": "display_data",
          "data": {
            "text/plain": [
              "<Figure size 432x288 with 2 Axes>"
            ],
            "image/png": "[encoded data removed]"
          },
          "metadata": {
            "needs_background": "light"
          }
        }
      ]
    },
    {
      "cell_type": "code",
      "source": [
        "with mlflow.start_run():\n",
        "        mlp = MLPClassifier()\n",
        "        mlp.fit(X_train_features, y_train)\n",
        "\n",
        "        predicted_qualities = mlp.predict(X_test_features)\n",
        "\n",
        "        aucpr = eval_metrics(y_test, predicted_qualities)\n",
        "\n",
        "        print(\"MLP Classifier model (Area under Precision_Recall Curve={:f}):\".format(aucpr))\n",
        "      \n",
        "        mlflow.log_param(\"Area under Precision Recall Curve\", aucpr)\n",
        "        \n",
        "        tracking_url_type_store = urlparse(mlflow.get_tracking_uri()).scheme\n",
        "\n",
        "        # Model registry does not work with file store\n",
        "        if tracking_url_type_store != \"file\":\n",
        "\n",
        "            mlflow.sklearn.log_model(mlp, \"model\", registered_model_name=\"MLPClassifierModel\")\n",
        "        else:\n",
        "            mlflow.sklearn.log_model(mlp, \"model\")"
      ],
      "metadata": {
        "colab": {
          "base_uri": "https://localhost:8080/"
        },
        "id": "iekhlzDV_RXf",
        "outputId": "c55d13ab-9d2e-48ec-9e41-769f0e2fc0f8"
      },
      "id": "iekhlzDV_RXf",
      "execution_count": 134,
      "outputs": [
        {
          "output_type": "stream",
          "name": "stdout",
          "text": [
            "MLP Classifier model (Area under Precision_Recall Curve=0.924302):\n"
          ]
        }
      ]
    },
    {
      "cell_type": "code",
      "source": [
        "!zip -r /content/mlrunsMLP.zip /content/mlruns"
      ],
      "metadata": {
        "colab": {
          "base_uri": "https://localhost:8080/"
        },
        "id": "L7SJIXfeAfwE",
        "outputId": "75ad7dc4-d842-491f-8a2a-0132307ccd96"
      },
      "id": "L7SJIXfeAfwE",
      "execution_count": 135,
      "outputs": [
        {
          "output_type": "stream",
          "name": "stdout",
          "text": [
            "updating: content/mlruns/ (stored 0%)\n",
            "updating: content/mlruns/.trash/ (stored 0%)\n",
            "updating: content/mlruns/0/ (stored 0%)\n",
            "updating: content/mlruns/0/2d098a1d725b4bb6a2bfed68d6c6c544/ (stored 0%)\n",
            "updating: content/mlruns/0/2d098a1d725b4bb6a2bfed68d6c6c544/params/ (stored 0%)\n",
            "updating: content/mlruns/0/2d098a1d725b4bb6a2bfed68d6c6c544/params/Area under Precision Recall Curve (stored 0%)\n",
            "updating: content/mlruns/0/2d098a1d725b4bb6a2bfed68d6c6c544/meta.yaml (deflated 44%)\n",
            "updating: content/mlruns/0/2d098a1d725b4bb6a2bfed68d6c6c544/tags/ (stored 0%)\n",
            "updating: content/mlruns/0/2d098a1d725b4bb6a2bfed68d6c6c544/tags/mlflow.runName (stored 0%)\n",
            "updating: content/mlruns/0/2d098a1d725b4bb6a2bfed68d6c6c544/tags/mlflow.log-model.history (deflated 44%)\n",
            "updating: content/mlruns/0/2d098a1d725b4bb6a2bfed68d6c6c544/tags/mlflow.user (stored 0%)\n",
            "updating: content/mlruns/0/2d098a1d725b4bb6a2bfed68d6c6c544/tags/mlflow.source.type (stored 0%)\n",
            "updating: content/mlruns/0/2d098a1d725b4bb6a2bfed68d6c6c544/tags/mlflow.source.name (stored 0%)\n",
            "updating: content/mlruns/0/2d098a1d725b4bb6a2bfed68d6c6c544/artifacts/ (stored 0%)\n",
            "updating: content/mlruns/0/2d098a1d725b4bb6a2bfed68d6c6c544/artifacts/model/ (stored 0%)\n",
            "updating: content/mlruns/0/2d098a1d725b4bb6a2bfed68d6c6c544/artifacts/model/model.pkl (deflated 8%)\n",
            "updating: content/mlruns/0/2d098a1d725b4bb6a2bfed68d6c6c544/artifacts/model/conda.yaml (deflated 30%)\n",
            "updating: content/mlruns/0/2d098a1d725b4bb6a2bfed68d6c6c544/artifacts/model/MLmodel (deflated 43%)\n",
            "updating: content/mlruns/0/2d098a1d725b4bb6a2bfed68d6c6c544/artifacts/model/python_env.yaml (deflated 17%)\n",
            "updating: content/mlruns/0/2d098a1d725b4bb6a2bfed68d6c6c544/artifacts/model/requirements.txt (deflated 14%)\n",
            "updating: content/mlruns/0/2d098a1d725b4bb6a2bfed68d6c6c544/metrics/ (stored 0%)\n",
            "updating: content/mlruns/0/7fdd0809709e4e35ad83d1df55be63a6/ (stored 0%)\n",
            "updating: content/mlruns/0/7fdd0809709e4e35ad83d1df55be63a6/params/ (stored 0%)\n",
            "updating: content/mlruns/0/7fdd0809709e4e35ad83d1df55be63a6/params/Area under Precision Recall Curve (stored 0%)\n",
            "updating: content/mlruns/0/7fdd0809709e4e35ad83d1df55be63a6/meta.yaml (deflated 44%)\n",
            "updating: content/mlruns/0/7fdd0809709e4e35ad83d1df55be63a6/tags/ (stored 0%)\n",
            "updating: content/mlruns/0/7fdd0809709e4e35ad83d1df55be63a6/tags/mlflow.runName (stored 0%)\n",
            "updating: content/mlruns/0/7fdd0809709e4e35ad83d1df55be63a6/tags/mlflow.log-model.history (deflated 43%)\n",
            "updating: content/mlruns/0/7fdd0809709e4e35ad83d1df55be63a6/tags/mlflow.user (stored 0%)\n",
            "updating: content/mlruns/0/7fdd0809709e4e35ad83d1df55be63a6/tags/mlflow.source.type (stored 0%)\n",
            "updating: content/mlruns/0/7fdd0809709e4e35ad83d1df55be63a6/tags/mlflow.source.name (stored 0%)\n",
            "updating: content/mlruns/0/7fdd0809709e4e35ad83d1df55be63a6/artifacts/ (stored 0%)\n",
            "updating: content/mlruns/0/7fdd0809709e4e35ad83d1df55be63a6/artifacts/model/ (stored 0%)\n",
            "updating: content/mlruns/0/7fdd0809709e4e35ad83d1df55be63a6/artifacts/model/model.pkl (deflated 8%)\n",
            "updating: content/mlruns/0/7fdd0809709e4e35ad83d1df55be63a6/artifacts/model/conda.yaml (deflated 30%)\n",
            "updating: content/mlruns/0/7fdd0809709e4e35ad83d1df55be63a6/artifacts/model/MLmodel (deflated 43%)\n",
            "updating: content/mlruns/0/7fdd0809709e4e35ad83d1df55be63a6/artifacts/model/python_env.yaml (deflated 17%)\n",
            "updating: content/mlruns/0/7fdd0809709e4e35ad83d1df55be63a6/artifacts/model/requirements.txt (deflated 14%)\n",
            "updating: content/mlruns/0/7fdd0809709e4e35ad83d1df55be63a6/metrics/ (stored 0%)\n",
            "updating: content/mlruns/0/03eb5a7e9c6b45d68de04f80e9178382/ (stored 0%)\n",
            "updating: content/mlruns/0/03eb5a7e9c6b45d68de04f80e9178382/params/ (stored 0%)\n",
            "updating: content/mlruns/0/03eb5a7e9c6b45d68de04f80e9178382/params/Area under Precision Recall Curve (stored 0%)\n",
            "updating: content/mlruns/0/03eb5a7e9c6b45d68de04f80e9178382/meta.yaml (deflated 44%)\n",
            "updating: content/mlruns/0/03eb5a7e9c6b45d68de04f80e9178382/tags/ (stored 0%)\n",
            "updating: content/mlruns/0/03eb5a7e9c6b45d68de04f80e9178382/tags/mlflow.runName (stored 0%)\n",
            "updating: content/mlruns/0/03eb5a7e9c6b45d68de04f80e9178382/tags/mlflow.log-model.history (deflated 43%)\n",
            "updating: content/mlruns/0/03eb5a7e9c6b45d68de04f80e9178382/tags/mlflow.user (stored 0%)\n",
            "updating: content/mlruns/0/03eb5a7e9c6b45d68de04f80e9178382/tags/mlflow.source.type (stored 0%)\n",
            "updating: content/mlruns/0/03eb5a7e9c6b45d68de04f80e9178382/tags/mlflow.source.name (stored 0%)\n",
            "updating: content/mlruns/0/03eb5a7e9c6b45d68de04f80e9178382/artifacts/ (stored 0%)\n",
            "updating: content/mlruns/0/03eb5a7e9c6b45d68de04f80e9178382/artifacts/model/ (stored 0%)\n",
            "updating: content/mlruns/0/03eb5a7e9c6b45d68de04f80e9178382/artifacts/model/model.pkl (deflated 8%)\n",
            "updating: content/mlruns/0/03eb5a7e9c6b45d68de04f80e9178382/artifacts/model/conda.yaml (deflated 30%)\n",
            "updating: content/mlruns/0/03eb5a7e9c6b45d68de04f80e9178382/artifacts/model/MLmodel (deflated 43%)\n",
            "updating: content/mlruns/0/03eb5a7e9c6b45d68de04f80e9178382/artifacts/model/python_env.yaml (deflated 17%)\n",
            "updating: content/mlruns/0/03eb5a7e9c6b45d68de04f80e9178382/artifacts/model/requirements.txt (deflated 14%)\n",
            "updating: content/mlruns/0/03eb5a7e9c6b45d68de04f80e9178382/metrics/ (stored 0%)\n",
            "updating: content/mlruns/0/meta.yaml (deflated 25%)\n",
            "updating: content/mlruns/0/5610a4ff52994acb83f5ab8d9e30570b/ (stored 0%)\n",
            "updating: content/mlruns/0/5610a4ff52994acb83f5ab8d9e30570b/params/ (stored 0%)\n",
            "updating: content/mlruns/0/5610a4ff52994acb83f5ab8d9e30570b/params/Area under Precision Recall Curve (stored 0%)\n",
            "updating: content/mlruns/0/5610a4ff52994acb83f5ab8d9e30570b/meta.yaml (deflated 44%)\n",
            "updating: content/mlruns/0/5610a4ff52994acb83f5ab8d9e30570b/tags/ (stored 0%)\n",
            "updating: content/mlruns/0/5610a4ff52994acb83f5ab8d9e30570b/tags/mlflow.runName (stored 0%)\n",
            "updating: content/mlruns/0/5610a4ff52994acb83f5ab8d9e30570b/tags/mlflow.log-model.history (deflated 43%)\n",
            "updating: content/mlruns/0/5610a4ff52994acb83f5ab8d9e30570b/tags/mlflow.user (stored 0%)\n",
            "updating: content/mlruns/0/5610a4ff52994acb83f5ab8d9e30570b/tags/mlflow.source.type (stored 0%)\n",
            "updating: content/mlruns/0/5610a4ff52994acb83f5ab8d9e30570b/tags/mlflow.source.name (stored 0%)\n",
            "updating: content/mlruns/0/5610a4ff52994acb83f5ab8d9e30570b/artifacts/ (stored 0%)\n",
            "updating: content/mlruns/0/5610a4ff52994acb83f5ab8d9e30570b/artifacts/model/ (stored 0%)\n",
            "updating: content/mlruns/0/5610a4ff52994acb83f5ab8d9e30570b/artifacts/model/model.pkl (deflated 8%)\n",
            "updating: content/mlruns/0/5610a4ff52994acb83f5ab8d9e30570b/artifacts/model/conda.yaml (deflated 30%)\n",
            "updating: content/mlruns/0/5610a4ff52994acb83f5ab8d9e30570b/artifacts/model/MLmodel (deflated 43%)\n",
            "updating: content/mlruns/0/5610a4ff52994acb83f5ab8d9e30570b/artifacts/model/python_env.yaml (deflated 17%)\n",
            "updating: content/mlruns/0/5610a4ff52994acb83f5ab8d9e30570b/artifacts/model/requirements.txt (deflated 14%)\n",
            "updating: content/mlruns/0/5610a4ff52994acb83f5ab8d9e30570b/metrics/ (stored 0%)\n",
            "updating: content/mlruns/0/18d034ebd8ec414b91be110f1ec5d283/ (stored 0%)\n",
            "updating: content/mlruns/0/18d034ebd8ec414b91be110f1ec5d283/params/ (stored 0%)\n",
            "updating: content/mlruns/0/18d034ebd8ec414b91be110f1ec5d283/params/Area under Precision Recall Curve (stored 0%)\n",
            "updating: content/mlruns/0/18d034ebd8ec414b91be110f1ec5d283/meta.yaml (deflated 44%)\n",
            "updating: content/mlruns/0/18d034ebd8ec414b91be110f1ec5d283/tags/ (stored 0%)\n",
            "updating: content/mlruns/0/18d034ebd8ec414b91be110f1ec5d283/tags/mlflow.runName (stored 0%)\n",
            "updating: content/mlruns/0/18d034ebd8ec414b91be110f1ec5d283/tags/mlflow.log-model.history (deflated 43%)\n",
            "updating: content/mlruns/0/18d034ebd8ec414b91be110f1ec5d283/tags/mlflow.user (stored 0%)\n",
            "updating: content/mlruns/0/18d034ebd8ec414b91be110f1ec5d283/tags/mlflow.source.type (stored 0%)\n",
            "updating: content/mlruns/0/18d034ebd8ec414b91be110f1ec5d283/tags/mlflow.source.name (stored 0%)\n",
            "updating: content/mlruns/0/18d034ebd8ec414b91be110f1ec5d283/artifacts/ (stored 0%)\n",
            "updating: content/mlruns/0/18d034ebd8ec414b91be110f1ec5d283/artifacts/model/ (stored 0%)\n",
            "updating: content/mlruns/0/18d034ebd8ec414b91be110f1ec5d283/artifacts/model/model.pkl (deflated 4%)\n",
            "updating: content/mlruns/0/18d034ebd8ec414b91be110f1ec5d283/artifacts/model/conda.yaml (deflated 30%)\n",
            "updating: content/mlruns/0/18d034ebd8ec414b91be110f1ec5d283/artifacts/model/MLmodel (deflated 43%)\n",
            "updating: content/mlruns/0/18d034ebd8ec414b91be110f1ec5d283/artifacts/model/python_env.yaml (deflated 17%)\n",
            "updating: content/mlruns/0/18d034ebd8ec414b91be110f1ec5d283/artifacts/model/requirements.txt (deflated 14%)\n",
            "updating: content/mlruns/0/18d034ebd8ec414b91be110f1ec5d283/metrics/ (stored 0%)\n",
            "updating: content/mlruns/0/3dc2c0617fb948bf8ba6bc9cd2d76ad2/ (stored 0%)\n",
            "updating: content/mlruns/0/3dc2c0617fb948bf8ba6bc9cd2d76ad2/params/ (stored 0%)\n",
            "updating: content/mlruns/0/3dc2c0617fb948bf8ba6bc9cd2d76ad2/params/Area under Precision Recall Curve (stored 0%)\n",
            "updating: content/mlruns/0/3dc2c0617fb948bf8ba6bc9cd2d76ad2/meta.yaml (deflated 44%)\n",
            "updating: content/mlruns/0/3dc2c0617fb948bf8ba6bc9cd2d76ad2/tags/ (stored 0%)\n",
            "updating: content/mlruns/0/3dc2c0617fb948bf8ba6bc9cd2d76ad2/tags/mlflow.runName (stored 0%)\n",
            "updating: content/mlruns/0/3dc2c0617fb948bf8ba6bc9cd2d76ad2/tags/mlflow.log-model.history (deflated 43%)\n",
            "updating: content/mlruns/0/3dc2c0617fb948bf8ba6bc9cd2d76ad2/tags/mlflow.user (stored 0%)\n",
            "updating: content/mlruns/0/3dc2c0617fb948bf8ba6bc9cd2d76ad2/tags/mlflow.source.type (stored 0%)\n",
            "updating: content/mlruns/0/3dc2c0617fb948bf8ba6bc9cd2d76ad2/tags/mlflow.source.name (stored 0%)\n",
            "updating: content/mlruns/0/3dc2c0617fb948bf8ba6bc9cd2d76ad2/artifacts/ (stored 0%)\n",
            "updating: content/mlruns/0/3dc2c0617fb948bf8ba6bc9cd2d76ad2/artifacts/model/ (stored 0%)\n",
            "updating: content/mlruns/0/3dc2c0617fb948bf8ba6bc9cd2d76ad2/artifacts/model/model.pkl (deflated 8%)\n",
            "updating: content/mlruns/0/3dc2c0617fb948bf8ba6bc9cd2d76ad2/artifacts/model/conda.yaml (deflated 30%)\n",
            "updating: content/mlruns/0/3dc2c0617fb948bf8ba6bc9cd2d76ad2/artifacts/model/MLmodel (deflated 43%)\n",
            "updating: content/mlruns/0/3dc2c0617fb948bf8ba6bc9cd2d76ad2/artifacts/model/python_env.yaml (deflated 17%)\n",
            "updating: content/mlruns/0/3dc2c0617fb948bf8ba6bc9cd2d76ad2/artifacts/model/requirements.txt (deflated 14%)\n",
            "updating: content/mlruns/0/3dc2c0617fb948bf8ba6bc9cd2d76ad2/metrics/ (stored 0%)\n",
            "updating: content/mlruns/0/3b127ea6c1144c62b21641eb715a0d52/ (stored 0%)\n",
            "updating: content/mlruns/0/3b127ea6c1144c62b21641eb715a0d52/params/ (stored 0%)\n",
            "updating: content/mlruns/0/3b127ea6c1144c62b21641eb715a0d52/params/Area under Precision Recall Curve (stored 0%)\n",
            "updating: content/mlruns/0/3b127ea6c1144c62b21641eb715a0d52/meta.yaml (deflated 44%)\n",
            "updating: content/mlruns/0/3b127ea6c1144c62b21641eb715a0d52/tags/ (stored 0%)\n",
            "updating: content/mlruns/0/3b127ea6c1144c62b21641eb715a0d52/tags/mlflow.runName (stored 0%)\n",
            "updating: content/mlruns/0/3b127ea6c1144c62b21641eb715a0d52/tags/mlflow.log-model.history (deflated 44%)\n",
            "updating: content/mlruns/0/3b127ea6c1144c62b21641eb715a0d52/tags/mlflow.user (stored 0%)\n",
            "updating: content/mlruns/0/3b127ea6c1144c62b21641eb715a0d52/tags/mlflow.source.type (stored 0%)\n",
            "updating: content/mlruns/0/3b127ea6c1144c62b21641eb715a0d52/tags/mlflow.source.name (stored 0%)\n",
            "updating: content/mlruns/0/3b127ea6c1144c62b21641eb715a0d52/artifacts/ (stored 0%)\n",
            "updating: content/mlruns/0/3b127ea6c1144c62b21641eb715a0d52/artifacts/model/ (stored 0%)\n",
            "updating: content/mlruns/0/3b127ea6c1144c62b21641eb715a0d52/artifacts/model/model.pkl (deflated 8%)\n",
            "updating: content/mlruns/0/3b127ea6c1144c62b21641eb715a0d52/artifacts/model/conda.yaml (deflated 30%)\n",
            "updating: content/mlruns/0/3b127ea6c1144c62b21641eb715a0d52/artifacts/model/MLmodel (deflated 43%)\n",
            "updating: content/mlruns/0/3b127ea6c1144c62b21641eb715a0d52/artifacts/model/python_env.yaml (deflated 17%)\n",
            "updating: content/mlruns/0/3b127ea6c1144c62b21641eb715a0d52/artifacts/model/requirements.txt (deflated 14%)\n",
            "updating: content/mlruns/0/3b127ea6c1144c62b21641eb715a0d52/metrics/ (stored 0%)\n",
            "updating: content/mlruns/0/bab635451ad94a89a71f235f7c921cb6/ (stored 0%)\n",
            "updating: content/mlruns/0/bab635451ad94a89a71f235f7c921cb6/params/ (stored 0%)\n",
            "updating: content/mlruns/0/bab635451ad94a89a71f235f7c921cb6/params/Area under Precision Recall Curve (stored 0%)\n",
            "updating: content/mlruns/0/bab635451ad94a89a71f235f7c921cb6/meta.yaml (deflated 44%)\n",
            "updating: content/mlruns/0/bab635451ad94a89a71f235f7c921cb6/tags/ (stored 0%)\n",
            "updating: content/mlruns/0/bab635451ad94a89a71f235f7c921cb6/tags/mlflow.runName (stored 0%)\n",
            "updating: content/mlruns/0/bab635451ad94a89a71f235f7c921cb6/tags/mlflow.log-model.history (deflated 44%)\n",
            "updating: content/mlruns/0/bab635451ad94a89a71f235f7c921cb6/tags/mlflow.user (stored 0%)\n",
            "updating: content/mlruns/0/bab635451ad94a89a71f235f7c921cb6/tags/mlflow.source.type (stored 0%)\n",
            "updating: content/mlruns/0/bab635451ad94a89a71f235f7c921cb6/tags/mlflow.source.name (stored 0%)\n",
            "updating: content/mlruns/0/bab635451ad94a89a71f235f7c921cb6/artifacts/ (stored 0%)\n",
            "updating: content/mlruns/0/bab635451ad94a89a71f235f7c921cb6/artifacts/model/ (stored 0%)\n",
            "updating: content/mlruns/0/bab635451ad94a89a71f235f7c921cb6/artifacts/model/model.pkl (deflated 4%)\n",
            "updating: content/mlruns/0/bab635451ad94a89a71f235f7c921cb6/artifacts/model/conda.yaml (deflated 30%)\n",
            "updating: content/mlruns/0/bab635451ad94a89a71f235f7c921cb6/artifacts/model/MLmodel (deflated 43%)\n",
            "updating: content/mlruns/0/bab635451ad94a89a71f235f7c921cb6/artifacts/model/python_env.yaml (deflated 17%)\n",
            "updating: content/mlruns/0/bab635451ad94a89a71f235f7c921cb6/artifacts/model/requirements.txt (deflated 14%)\n",
            "updating: content/mlruns/0/bab635451ad94a89a71f235f7c921cb6/metrics/ (stored 0%)\n",
            "  adding: content/mlruns/0/4a71a3776bf94e4b9d42d1c67ad1de56/ (stored 0%)\n",
            "  adding: content/mlruns/0/4a71a3776bf94e4b9d42d1c67ad1de56/params/ (stored 0%)\n",
            "  adding: content/mlruns/0/4a71a3776bf94e4b9d42d1c67ad1de56/params/Area under Precision Recall Curve (stored 0%)\n",
            "  adding: content/mlruns/0/4a71a3776bf94e4b9d42d1c67ad1de56/meta.yaml (deflated 45%)\n",
            "  adding: content/mlruns/0/4a71a3776bf94e4b9d42d1c67ad1de56/tags/ (stored 0%)\n",
            "  adding: content/mlruns/0/4a71a3776bf94e4b9d42d1c67ad1de56/tags/mlflow.runName (stored 0%)\n",
            "  adding: content/mlruns/0/4a71a3776bf94e4b9d42d1c67ad1de56/tags/mlflow.log-model.history (deflated 44%)\n",
            "  adding: content/mlruns/0/4a71a3776bf94e4b9d42d1c67ad1de56/tags/mlflow.user (stored 0%)\n",
            "  adding: content/mlruns/0/4a71a3776bf94e4b9d42d1c67ad1de56/tags/mlflow.source.type (stored 0%)\n",
            "  adding: content/mlruns/0/4a71a3776bf94e4b9d42d1c67ad1de56/tags/mlflow.source.name (stored 0%)\n",
            "  adding: content/mlruns/0/4a71a3776bf94e4b9d42d1c67ad1de56/artifacts/ (stored 0%)\n",
            "  adding: content/mlruns/0/4a71a3776bf94e4b9d42d1c67ad1de56/artifacts/model/ (stored 0%)\n",
            "  adding: content/mlruns/0/4a71a3776bf94e4b9d42d1c67ad1de56/artifacts/model/model.pkl (deflated 4%)\n",
            "  adding: content/mlruns/0/4a71a3776bf94e4b9d42d1c67ad1de56/artifacts/model/conda.yaml (deflated 30%)\n",
            "  adding: content/mlruns/0/4a71a3776bf94e4b9d42d1c67ad1de56/artifacts/model/MLmodel (deflated 43%)\n",
            "  adding: content/mlruns/0/4a71a3776bf94e4b9d42d1c67ad1de56/artifacts/model/python_env.yaml (deflated 17%)\n",
            "  adding: content/mlruns/0/4a71a3776bf94e4b9d42d1c67ad1de56/artifacts/model/requirements.txt (deflated 14%)\n",
            "  adding: content/mlruns/0/4a71a3776bf94e4b9d42d1c67ad1de56/metrics/ (stored 0%)\n",
            "  adding: content/mlruns/0/c195442891ca458aa97280421389410f/ (stored 0%)\n",
            "  adding: content/mlruns/0/c195442891ca458aa97280421389410f/params/ (stored 0%)\n",
            "  adding: content/mlruns/0/c195442891ca458aa97280421389410f/meta.yaml (deflated 44%)\n",
            "  adding: content/mlruns/0/c195442891ca458aa97280421389410f/tags/ (stored 0%)\n",
            "  adding: content/mlruns/0/c195442891ca458aa97280421389410f/tags/mlflow.runName (stored 0%)\n",
            "  adding: content/mlruns/0/c195442891ca458aa97280421389410f/tags/mlflow.user (stored 0%)\n",
            "  adding: content/mlruns/0/c195442891ca458aa97280421389410f/tags/mlflow.source.type (stored 0%)\n",
            "  adding: content/mlruns/0/c195442891ca458aa97280421389410f/tags/mlflow.source.name (stored 0%)\n",
            "  adding: content/mlruns/0/c195442891ca458aa97280421389410f/artifacts/ (stored 0%)\n",
            "  adding: content/mlruns/0/c195442891ca458aa97280421389410f/metrics/ (stored 0%)\n",
            "  adding: content/mlruns/0/198c4cd87c2540f4911a39a6a9b48e7a/ (stored 0%)\n",
            "  adding: content/mlruns/0/198c4cd87c2540f4911a39a6a9b48e7a/params/ (stored 0%)\n",
            "  adding: content/mlruns/0/198c4cd87c2540f4911a39a6a9b48e7a/meta.yaml (deflated 44%)\n",
            "  adding: content/mlruns/0/198c4cd87c2540f4911a39a6a9b48e7a/tags/ (stored 0%)\n",
            "  adding: content/mlruns/0/198c4cd87c2540f4911a39a6a9b48e7a/tags/mlflow.runName (stored 0%)\n",
            "  adding: content/mlruns/0/198c4cd87c2540f4911a39a6a9b48e7a/tags/mlflow.user (stored 0%)\n",
            "  adding: content/mlruns/0/198c4cd87c2540f4911a39a6a9b48e7a/tags/mlflow.source.type (stored 0%)\n",
            "  adding: content/mlruns/0/198c4cd87c2540f4911a39a6a9b48e7a/tags/mlflow.source.name (stored 0%)\n",
            "  adding: content/mlruns/0/198c4cd87c2540f4911a39a6a9b48e7a/artifacts/ (stored 0%)\n",
            "  adding: content/mlruns/0/198c4cd87c2540f4911a39a6a9b48e7a/metrics/ (stored 0%)\n",
            "  adding: content/mlruns/0/2580c46091734ccfb85c50119d0f3e38/ (stored 0%)\n",
            "  adding: content/mlruns/0/2580c46091734ccfb85c50119d0f3e38/params/ (stored 0%)\n",
            "  adding: content/mlruns/0/2580c46091734ccfb85c50119d0f3e38/params/Area under Precision Recall Curve (stored 0%)\n",
            "  adding: content/mlruns/0/2580c46091734ccfb85c50119d0f3e38/meta.yaml (deflated 44%)\n",
            "  adding: content/mlruns/0/2580c46091734ccfb85c50119d0f3e38/tags/ (stored 0%)\n",
            "  adding: content/mlruns/0/2580c46091734ccfb85c50119d0f3e38/tags/mlflow.runName (stored 0%)\n",
            "  adding: content/mlruns/0/2580c46091734ccfb85c50119d0f3e38/tags/mlflow.log-model.history (deflated 43%)\n",
            "  adding: content/mlruns/0/2580c46091734ccfb85c50119d0f3e38/tags/mlflow.user (stored 0%)\n",
            "  adding: content/mlruns/0/2580c46091734ccfb85c50119d0f3e38/tags/mlflow.source.type (stored 0%)\n",
            "  adding: content/mlruns/0/2580c46091734ccfb85c50119d0f3e38/tags/mlflow.source.name (stored 0%)\n",
            "  adding: content/mlruns/0/2580c46091734ccfb85c50119d0f3e38/artifacts/ (stored 0%)\n",
            "  adding: content/mlruns/0/2580c46091734ccfb85c50119d0f3e38/artifacts/model/ (stored 0%)\n",
            "  adding: content/mlruns/0/2580c46091734ccfb85c50119d0f3e38/artifacts/model/model.pkl (deflated 8%)\n",
            "  adding: content/mlruns/0/2580c46091734ccfb85c50119d0f3e38/artifacts/model/conda.yaml (deflated 30%)\n",
            "  adding: content/mlruns/0/2580c46091734ccfb85c50119d0f3e38/artifacts/model/MLmodel (deflated 43%)\n",
            "  adding: content/mlruns/0/2580c46091734ccfb85c50119d0f3e38/artifacts/model/python_env.yaml (deflated 17%)\n",
            "  adding: content/mlruns/0/2580c46091734ccfb85c50119d0f3e38/artifacts/model/requirements.txt (deflated 14%)\n",
            "  adding: content/mlruns/0/2580c46091734ccfb85c50119d0f3e38/metrics/ (stored 0%)\n",
            "  adding: content/mlruns/0/ba83cb8de0df4980ab0e7a7d78970d67/ (stored 0%)\n",
            "  adding: content/mlruns/0/ba83cb8de0df4980ab0e7a7d78970d67/params/ (stored 0%)\n",
            "  adding: content/mlruns/0/ba83cb8de0df4980ab0e7a7d78970d67/params/Area under Precision Recall Curve (stored 0%)\n",
            "  adding: content/mlruns/0/ba83cb8de0df4980ab0e7a7d78970d67/meta.yaml (deflated 44%)\n",
            "  adding: content/mlruns/0/ba83cb8de0df4980ab0e7a7d78970d67/tags/ (stored 0%)\n",
            "  adding: content/mlruns/0/ba83cb8de0df4980ab0e7a7d78970d67/tags/mlflow.runName (stored 0%)\n",
            "  adding: content/mlruns/0/ba83cb8de0df4980ab0e7a7d78970d67/tags/mlflow.log-model.history (deflated 43%)\n",
            "  adding: content/mlruns/0/ba83cb8de0df4980ab0e7a7d78970d67/tags/mlflow.user (stored 0%)\n",
            "  adding: content/mlruns/0/ba83cb8de0df4980ab0e7a7d78970d67/tags/mlflow.source.type (stored 0%)\n",
            "  adding: content/mlruns/0/ba83cb8de0df4980ab0e7a7d78970d67/tags/mlflow.source.name (stored 0%)\n",
            "  adding: content/mlruns/0/ba83cb8de0df4980ab0e7a7d78970d67/artifacts/ (stored 0%)\n",
            "  adding: content/mlruns/0/ba83cb8de0df4980ab0e7a7d78970d67/artifacts/model/ (stored 0%)\n",
            "  adding: content/mlruns/0/ba83cb8de0df4980ab0e7a7d78970d67/artifacts/model/model.pkl (deflated 4%)\n",
            "  adding: content/mlruns/0/ba83cb8de0df4980ab0e7a7d78970d67/artifacts/model/conda.yaml (deflated 30%)\n",
            "  adding: content/mlruns/0/ba83cb8de0df4980ab0e7a7d78970d67/artifacts/model/MLmodel (deflated 43%)\n",
            "  adding: content/mlruns/0/ba83cb8de0df4980ab0e7a7d78970d67/artifacts/model/python_env.yaml (deflated 17%)\n",
            "  adding: content/mlruns/0/ba83cb8de0df4980ab0e7a7d78970d67/artifacts/model/requirements.txt (deflated 14%)\n",
            "  adding: content/mlruns/0/ba83cb8de0df4980ab0e7a7d78970d67/metrics/ (stored 0%)\n",
            "  adding: content/mlruns/0/5b9b11a1450d4c5dbdc1721346583bd7/ (stored 0%)\n",
            "  adding: content/mlruns/0/5b9b11a1450d4c5dbdc1721346583bd7/params/ (stored 0%)\n",
            "  adding: content/mlruns/0/5b9b11a1450d4c5dbdc1721346583bd7/params/Area under Precision Recall Curve (stored 0%)\n",
            "  adding: content/mlruns/0/5b9b11a1450d4c5dbdc1721346583bd7/meta.yaml (deflated 44%)\n",
            "  adding: content/mlruns/0/5b9b11a1450d4c5dbdc1721346583bd7/tags/ (stored 0%)\n",
            "  adding: content/mlruns/0/5b9b11a1450d4c5dbdc1721346583bd7/tags/mlflow.runName (stored 0%)\n",
            "  adding: content/mlruns/0/5b9b11a1450d4c5dbdc1721346583bd7/tags/mlflow.log-model.history (deflated 43%)\n",
            "  adding: content/mlruns/0/5b9b11a1450d4c5dbdc1721346583bd7/tags/mlflow.user (stored 0%)\n",
            "  adding: content/mlruns/0/5b9b11a1450d4c5dbdc1721346583bd7/tags/mlflow.source.type (stored 0%)\n",
            "  adding: content/mlruns/0/5b9b11a1450d4c5dbdc1721346583bd7/tags/mlflow.source.name (stored 0%)\n",
            "  adding: content/mlruns/0/5b9b11a1450d4c5dbdc1721346583bd7/artifacts/ (stored 0%)\n",
            "  adding: content/mlruns/0/5b9b11a1450d4c5dbdc1721346583bd7/artifacts/model/ (stored 0%)\n",
            "  adding: content/mlruns/0/5b9b11a1450d4c5dbdc1721346583bd7/artifacts/model/model.pkl (deflated 4%)\n",
            "  adding: content/mlruns/0/5b9b11a1450d4c5dbdc1721346583bd7/artifacts/model/conda.yaml (deflated 30%)\n",
            "  adding: content/mlruns/0/5b9b11a1450d4c5dbdc1721346583bd7/artifacts/model/MLmodel (deflated 43%)\n",
            "  adding: content/mlruns/0/5b9b11a1450d4c5dbdc1721346583bd7/artifacts/model/python_env.yaml (deflated 17%)\n",
            "  adding: content/mlruns/0/5b9b11a1450d4c5dbdc1721346583bd7/artifacts/model/requirements.txt (deflated 14%)\n",
            "  adding: content/mlruns/0/5b9b11a1450d4c5dbdc1721346583bd7/metrics/ (stored 0%)\n"
          ]
        }
      ]
    },
    {
      "cell_type": "code",
      "source": [
        "from google.colab import files\n",
        "files.download(\"/content/mlrunsMLP.zip\")"
      ],
      "metadata": {
        "colab": {
          "base_uri": "https://localhost:8080/",
          "height": 34
        },
        "id": "h5cEJACTBbcB",
        "outputId": "85d90f9e-26cb-4f11-afb6-b3a6f41cadf8"
      },
      "id": "h5cEJACTBbcB",
      "execution_count": 136,
      "outputs": [
        {
          "output_type": "display_data",
          "data": {
            "text/plain": [
              "<IPython.core.display.Javascript object>"
            ],
            "application/javascript": [
              "\n",
              "    async function download(id, filename, size) {\n",
              "      if (!google.colab.kernel.accessAllowed) {\n",
              "        return;\n",
              "      }\n",
              "      const div = document.createElement('div');\n",
              "      const label = document.createElement('label');\n",
              "      label.textContent = `Downloading \"${filename}\": `;\n",
              "      div.appendChild(label);\n",
              "      const progress = document.createElement('progress');\n",
              "      progress.max = size;\n",
              "      div.appendChild(progress);\n",
              "      document.body.appendChild(div);\n",
              "\n",
              "      const buffers = [];\n",
              "      let downloaded = 0;\n",
              "\n",
              "      const channel = await google.colab.kernel.comms.open(id);\n",
              "      // Send a message to notify the kernel that we're ready.\n",
              "      channel.send({})\n",
              "\n",
              "      for await (const message of channel.messages) {\n",
              "        // Send a message to notify the kernel that we're ready.\n",
              "        channel.send({})\n",
              "        if (message.buffers) {\n",
              "          for (const buffer of message.buffers) {\n",
              "            buffers.push(buffer);\n",
              "            downloaded += buffer.byteLength;\n",
              "            progress.value = downloaded;\n",
              "          }\n",
              "        }\n",
              "      }\n",
              "      const blob = new Blob(buffers, {type: 'application/binary'});\n",
              "      const a = document.createElement('a');\n",
              "      a.href = window.URL.createObjectURL(blob);\n",
              "      a.download = filename;\n",
              "      div.appendChild(a);\n",
              "      a.click();\n",
              "      div.remove();\n",
              "    }\n",
              "  "
            ]
          },
          "metadata": {}
        },
        {
          "output_type": "display_data",
          "data": {
            "text/plain": [
              "<IPython.core.display.Javascript object>"
            ],
            "application/javascript": [
              "download(\"download_5f777da3-b421-4480-981d-27016801427f\", \"mlrunsMLP.zip\", 5907178)"
            ]
          },
          "metadata": {}
        }
      ]
    },
    {
      "cell_type": "markdown",
      "id": "7261a735",
      "metadata": {
        "id": "7261a735"
      },
      "source": [
        "# Naive Bayes Classifier"
      ]
    },
    {
      "cell_type": "markdown",
      "id": "2f7306ab",
      "metadata": {
        "id": "2f7306ab"
      },
      "source": [
        "### Gaussian NB Classifier"
      ]
    },
    {
      "cell_type": "code",
      "execution_count": 137,
      "id": "bd0986f8",
      "metadata": {
        "colab": {
          "base_uri": "https://localhost:8080/"
        },
        "id": "bd0986f8",
        "outputId": "a7a6bdb2-f456-42bb-efd1-8bf81307a6e3"
      },
      "outputs": [
        {
          "output_type": "execute_result",
          "data": {
            "text/plain": [
              "GaussianNB()"
            ]
          },
          "metadata": {},
          "execution_count": 137
        }
      ],
      "source": [
        "model3 = GaussianNB()\n",
        "model3.fit(X_train_features.toarray() , y_train)"
      ]
    },
    {
      "cell_type": "code",
      "execution_count": 138,
      "id": "a6e49590",
      "metadata": {
        "id": "a6e49590"
      },
      "outputs": [],
      "source": [
        "# prediction on training data\n",
        "\n",
        "prediction_on_training_data = model3.predict(X_train_features.toarray())\n",
        "accuracy_on_training_data = accuracy_score(y_train, prediction_on_training_data)"
      ]
    },
    {
      "cell_type": "code",
      "execution_count": 139,
      "id": "31979ab2",
      "metadata": {
        "colab": {
          "base_uri": "https://localhost:8080/"
        },
        "id": "31979ab2",
        "outputId": "b0a5f9c3-eeb4-42c1-d64b-0a1c40431d8f"
      },
      "outputs": [
        {
          "output_type": "stream",
          "name": "stdout",
          "text": [
            "Accuracy on training data :  0.9532958912208099\n"
          ]
        }
      ],
      "source": [
        "print('Accuracy on training data : ', accuracy_on_training_data)"
      ]
    },
    {
      "cell_type": "code",
      "execution_count": 140,
      "id": "568637d8",
      "metadata": {
        "id": "568637d8"
      },
      "outputs": [],
      "source": [
        "# prediction on test data\n",
        "\n",
        "y_pred = model3.predict(X_test_features.toarray())\n",
        "accuracy_on_test_data = accuracy_score(y_test, y_pred)"
      ]
    },
    {
      "cell_type": "code",
      "execution_count": 141,
      "id": "77bb0c0d",
      "metadata": {
        "colab": {
          "base_uri": "https://localhost:8080/"
        },
        "id": "77bb0c0d",
        "outputId": "2d1e1e9e-a671-4dbe-fb04-26b86af1378f"
      },
      "outputs": [
        {
          "output_type": "stream",
          "name": "stdout",
          "text": [
            "Accuracy on test data :  0.9700956937799043\n"
          ]
        }
      ],
      "source": [
        "print('Accuracy on test data : ', accuracy_on_test_data)"
      ]
    },
    {
      "cell_type": "code",
      "execution_count": 142,
      "id": "75305d8f",
      "metadata": {
        "colab": {
          "base_uri": "https://localhost:8080/"
        },
        "id": "75305d8f",
        "outputId": "c7a9b583-d127-442b-9471-0e0b7b98bc12"
      },
      "outputs": [
        {
          "output_type": "stream",
          "name": "stdout",
          "text": [
            "              precision    recall  f1-score   support\n",
            "\n",
            "           0       0.98      0.99      0.98       725\n",
            "           1       0.91      0.86      0.88       111\n",
            "\n",
            "    accuracy                           0.97       836\n",
            "   macro avg       0.95      0.92      0.93       836\n",
            "weighted avg       0.97      0.97      0.97       836\n",
            "\n"
          ]
        }
      ],
      "source": [
        "print(classification_report(y_test,y_pred))"
      ]
    },
    {
      "cell_type": "code",
      "source": [
        "cm = confusion_matrix(y_test, y_pred, labels=model3.classes_)\n",
        "disp = ConfusionMatrixDisplay(confusion_matrix=cm,display_labels=model3.classes_)\n",
        "disp.plot()\n",
        "plt.show()"
      ],
      "metadata": {
        "colab": {
          "base_uri": "https://localhost:8080/",
          "height": 279
        },
        "id": "LovH1O61CvxR",
        "outputId": "b6c96926-f91c-4a67-f68a-5b1359a6b259"
      },
      "id": "LovH1O61CvxR",
      "execution_count": 143,
      "outputs": [
        {
          "output_type": "display_data",
          "data": {
            "text/plain": [
              "<Figure size 432x288 with 2 Axes>"
            ],
            "image/png": "[encoded data removed]"
          },
          "metadata": {
            "needs_background": "light"
          }
        }
      ]
    },
    {
      "cell_type": "code",
      "source": [
        "with mlflow.start_run():\n",
        "        nb = GaussianNB()\n",
        "        nb.fit(X_train_features.toarray(), y_train)\n",
        "\n",
        "        predicted_qualities = nb.predict(X_test_features.toarray())\n",
        "\n",
        "        aucpr = eval_metrics(y_test, predicted_qualities)\n",
        "\n",
        "        print(\"Gaussian NB model (Area under Precision_Recall Curve={:f}):\".format(aucpr))\n",
        "      \n",
        "        mlflow.log_param(\"Area under Precision Recall Curve\", aucpr)\n",
        "        \n",
        "        tracking_url_type_store = urlparse(mlflow.get_tracking_uri()).scheme\n",
        "\n",
        "        # Model registry does not work with file store\n",
        "        if tracking_url_type_store != \"file\":\n",
        "\n",
        "            mlflow.sklearn.log_model(mlp, \"model\", registered_model_name=\"GaussianNBModel\")\n",
        "        else:\n",
        "            mlflow.sklearn.log_model(mlp, \"model\")"
      ],
      "metadata": {
        "colab": {
          "base_uri": "https://localhost:8080/"
        },
        "id": "n-A63wvnCq0P",
        "outputId": "bd3fb097-3115-477b-c0ba-c9ec37c1ade8"
      },
      "id": "n-A63wvnCq0P",
      "execution_count": 144,
      "outputs": [
        {
          "output_type": "stream",
          "name": "stdout",
          "text": [
            "Gaussian NB model (Area under Precision_Recall Curve=0.894228):\n"
          ]
        }
      ]
    },
    {
      "cell_type": "code",
      "source": [
        "!zip -r /content/mlrunsNB.zip /content/mlruns"
      ],
      "metadata": {
        "colab": {
          "base_uri": "https://localhost:8080/"
        },
        "id": "QhoIW-ZgDJGm",
        "outputId": "ad2b1901-4d26-4e81-9e8f-ec7052256d0d"
      },
      "id": "QhoIW-ZgDJGm",
      "execution_count": 145,
      "outputs": [
        {
          "output_type": "stream",
          "name": "stdout",
          "text": [
            "updating: content/mlruns/ (stored 0%)\n",
            "updating: content/mlruns/.trash/ (stored 0%)\n",
            "updating: content/mlruns/0/ (stored 0%)\n",
            "updating: content/mlruns/0/2d098a1d725b4bb6a2bfed68d6c6c544/ (stored 0%)\n",
            "updating: content/mlruns/0/2d098a1d725b4bb6a2bfed68d6c6c544/params/ (stored 0%)\n",
            "updating: content/mlruns/0/2d098a1d725b4bb6a2bfed68d6c6c544/params/Area under Precision Recall Curve (stored 0%)\n",
            "updating: content/mlruns/0/2d098a1d725b4bb6a2bfed68d6c6c544/meta.yaml (deflated 44%)\n",
            "updating: content/mlruns/0/2d098a1d725b4bb6a2bfed68d6c6c544/tags/ (stored 0%)\n",
            "updating: content/mlruns/0/2d098a1d725b4bb6a2bfed68d6c6c544/tags/mlflow.runName (stored 0%)\n",
            "updating: content/mlruns/0/2d098a1d725b4bb6a2bfed68d6c6c544/tags/mlflow.log-model.history (deflated 44%)\n",
            "updating: content/mlruns/0/2d098a1d725b4bb6a2bfed68d6c6c544/tags/mlflow.user (stored 0%)\n",
            "updating: content/mlruns/0/2d098a1d725b4bb6a2bfed68d6c6c544/tags/mlflow.source.type (stored 0%)\n",
            "updating: content/mlruns/0/2d098a1d725b4bb6a2bfed68d6c6c544/tags/mlflow.source.name (stored 0%)\n",
            "updating: content/mlruns/0/2d098a1d725b4bb6a2bfed68d6c6c544/artifacts/ (stored 0%)\n",
            "updating: content/mlruns/0/2d098a1d725b4bb6a2bfed68d6c6c544/artifacts/model/ (stored 0%)\n",
            "updating: content/mlruns/0/2d098a1d725b4bb6a2bfed68d6c6c544/artifacts/model/model.pkl (deflated 8%)\n",
            "updating: content/mlruns/0/2d098a1d725b4bb6a2bfed68d6c6c544/artifacts/model/conda.yaml (deflated 30%)\n",
            "updating: content/mlruns/0/2d098a1d725b4bb6a2bfed68d6c6c544/artifacts/model/MLmodel (deflated 43%)\n",
            "updating: content/mlruns/0/2d098a1d725b4bb6a2bfed68d6c6c544/artifacts/model/python_env.yaml (deflated 17%)\n",
            "updating: content/mlruns/0/2d098a1d725b4bb6a2bfed68d6c6c544/artifacts/model/requirements.txt (deflated 14%)\n",
            "updating: content/mlruns/0/2d098a1d725b4bb6a2bfed68d6c6c544/metrics/ (stored 0%)\n",
            "updating: content/mlruns/0/4a71a3776bf94e4b9d42d1c67ad1de56/ (stored 0%)\n",
            "updating: content/mlruns/0/4a71a3776bf94e4b9d42d1c67ad1de56/params/ (stored 0%)\n",
            "updating: content/mlruns/0/4a71a3776bf94e4b9d42d1c67ad1de56/params/Area under Precision Recall Curve (stored 0%)\n",
            "updating: content/mlruns/0/4a71a3776bf94e4b9d42d1c67ad1de56/meta.yaml (deflated 45%)\n",
            "updating: content/mlruns/0/4a71a3776bf94e4b9d42d1c67ad1de56/tags/ (stored 0%)\n",
            "updating: content/mlruns/0/4a71a3776bf94e4b9d42d1c67ad1de56/tags/mlflow.runName (stored 0%)\n",
            "updating: content/mlruns/0/4a71a3776bf94e4b9d42d1c67ad1de56/tags/mlflow.log-model.history (deflated 44%)\n",
            "updating: content/mlruns/0/4a71a3776bf94e4b9d42d1c67ad1de56/tags/mlflow.user (stored 0%)\n",
            "updating: content/mlruns/0/4a71a3776bf94e4b9d42d1c67ad1de56/tags/mlflow.source.type (stored 0%)\n",
            "updating: content/mlruns/0/4a71a3776bf94e4b9d42d1c67ad1de56/tags/mlflow.source.name (stored 0%)\n",
            "updating: content/mlruns/0/4a71a3776bf94e4b9d42d1c67ad1de56/artifacts/ (stored 0%)\n",
            "updating: content/mlruns/0/4a71a3776bf94e4b9d42d1c67ad1de56/artifacts/model/ (stored 0%)\n",
            "updating: content/mlruns/0/4a71a3776bf94e4b9d42d1c67ad1de56/artifacts/model/model.pkl (deflated 4%)\n",
            "updating: content/mlruns/0/4a71a3776bf94e4b9d42d1c67ad1de56/artifacts/model/conda.yaml (deflated 30%)\n",
            "updating: content/mlruns/0/4a71a3776bf94e4b9d42d1c67ad1de56/artifacts/model/MLmodel (deflated 43%)\n",
            "updating: content/mlruns/0/4a71a3776bf94e4b9d42d1c67ad1de56/artifacts/model/python_env.yaml (deflated 17%)\n",
            "updating: content/mlruns/0/4a71a3776bf94e4b9d42d1c67ad1de56/artifacts/model/requirements.txt (deflated 14%)\n",
            "updating: content/mlruns/0/4a71a3776bf94e4b9d42d1c67ad1de56/metrics/ (stored 0%)\n",
            "updating: content/mlruns/0/7fdd0809709e4e35ad83d1df55be63a6/ (stored 0%)\n",
            "updating: content/mlruns/0/7fdd0809709e4e35ad83d1df55be63a6/params/ (stored 0%)\n",
            "updating: content/mlruns/0/7fdd0809709e4e35ad83d1df55be63a6/params/Area under Precision Recall Curve (stored 0%)\n",
            "updating: content/mlruns/0/7fdd0809709e4e35ad83d1df55be63a6/meta.yaml (deflated 44%)\n",
            "updating: content/mlruns/0/7fdd0809709e4e35ad83d1df55be63a6/tags/ (stored 0%)\n",
            "updating: content/mlruns/0/7fdd0809709e4e35ad83d1df55be63a6/tags/mlflow.runName (stored 0%)\n",
            "updating: content/mlruns/0/7fdd0809709e4e35ad83d1df55be63a6/tags/mlflow.log-model.history (deflated 43%)\n",
            "updating: content/mlruns/0/7fdd0809709e4e35ad83d1df55be63a6/tags/mlflow.user (stored 0%)\n",
            "updating: content/mlruns/0/7fdd0809709e4e35ad83d1df55be63a6/tags/mlflow.source.type (stored 0%)\n",
            "updating: content/mlruns/0/7fdd0809709e4e35ad83d1df55be63a6/tags/mlflow.source.name (stored 0%)\n",
            "updating: content/mlruns/0/7fdd0809709e4e35ad83d1df55be63a6/artifacts/ (stored 0%)\n",
            "updating: content/mlruns/0/7fdd0809709e4e35ad83d1df55be63a6/artifacts/model/ (stored 0%)\n",
            "updating: content/mlruns/0/7fdd0809709e4e35ad83d1df55be63a6/artifacts/model/model.pkl (deflated 8%)\n",
            "updating: content/mlruns/0/7fdd0809709e4e35ad83d1df55be63a6/artifacts/model/conda.yaml (deflated 30%)\n",
            "updating: content/mlruns/0/7fdd0809709e4e35ad83d1df55be63a6/artifacts/model/MLmodel (deflated 43%)\n",
            "updating: content/mlruns/0/7fdd0809709e4e35ad83d1df55be63a6/artifacts/model/python_env.yaml (deflated 17%)\n",
            "updating: content/mlruns/0/7fdd0809709e4e35ad83d1df55be63a6/artifacts/model/requirements.txt (deflated 14%)\n",
            "updating: content/mlruns/0/7fdd0809709e4e35ad83d1df55be63a6/metrics/ (stored 0%)\n",
            "updating: content/mlruns/0/03eb5a7e9c6b45d68de04f80e9178382/ (stored 0%)\n",
            "updating: content/mlruns/0/03eb5a7e9c6b45d68de04f80e9178382/params/ (stored 0%)\n",
            "updating: content/mlruns/0/03eb5a7e9c6b45d68de04f80e9178382/params/Area under Precision Recall Curve (stored 0%)\n",
            "updating: content/mlruns/0/03eb5a7e9c6b45d68de04f80e9178382/meta.yaml (deflated 44%)\n",
            "updating: content/mlruns/0/03eb5a7e9c6b45d68de04f80e9178382/tags/ (stored 0%)\n",
            "updating: content/mlruns/0/03eb5a7e9c6b45d68de04f80e9178382/tags/mlflow.runName (stored 0%)\n",
            "updating: content/mlruns/0/03eb5a7e9c6b45d68de04f80e9178382/tags/mlflow.log-model.history (deflated 43%)\n",
            "updating: content/mlruns/0/03eb5a7e9c6b45d68de04f80e9178382/tags/mlflow.user (stored 0%)\n",
            "updating: content/mlruns/0/03eb5a7e9c6b45d68de04f80e9178382/tags/mlflow.source.type (stored 0%)\n",
            "updating: content/mlruns/0/03eb5a7e9c6b45d68de04f80e9178382/tags/mlflow.source.name (stored 0%)\n",
            "updating: content/mlruns/0/03eb5a7e9c6b45d68de04f80e9178382/artifacts/ (stored 0%)\n",
            "updating: content/mlruns/0/03eb5a7e9c6b45d68de04f80e9178382/artifacts/model/ (stored 0%)\n",
            "updating: content/mlruns/0/03eb5a7e9c6b45d68de04f80e9178382/artifacts/model/model.pkl (deflated 8%)\n",
            "updating: content/mlruns/0/03eb5a7e9c6b45d68de04f80e9178382/artifacts/model/conda.yaml (deflated 30%)\n",
            "updating: content/mlruns/0/03eb5a7e9c6b45d68de04f80e9178382/artifacts/model/MLmodel (deflated 43%)\n",
            "updating: content/mlruns/0/03eb5a7e9c6b45d68de04f80e9178382/artifacts/model/python_env.yaml (deflated 17%)\n",
            "updating: content/mlruns/0/03eb5a7e9c6b45d68de04f80e9178382/artifacts/model/requirements.txt (deflated 14%)\n",
            "updating: content/mlruns/0/03eb5a7e9c6b45d68de04f80e9178382/metrics/ (stored 0%)\n",
            "updating: content/mlruns/0/meta.yaml (deflated 25%)\n",
            "updating: content/mlruns/0/5610a4ff52994acb83f5ab8d9e30570b/ (stored 0%)\n",
            "updating: content/mlruns/0/5610a4ff52994acb83f5ab8d9e30570b/params/ (stored 0%)\n",
            "updating: content/mlruns/0/5610a4ff52994acb83f5ab8d9e30570b/params/Area under Precision Recall Curve (stored 0%)\n",
            "updating: content/mlruns/0/5610a4ff52994acb83f5ab8d9e30570b/meta.yaml (deflated 44%)\n",
            "updating: content/mlruns/0/5610a4ff52994acb83f5ab8d9e30570b/tags/ (stored 0%)\n",
            "updating: content/mlruns/0/5610a4ff52994acb83f5ab8d9e30570b/tags/mlflow.runName (stored 0%)\n",
            "updating: content/mlruns/0/5610a4ff52994acb83f5ab8d9e30570b/tags/mlflow.log-model.history (deflated 43%)\n",
            "updating: content/mlruns/0/5610a4ff52994acb83f5ab8d9e30570b/tags/mlflow.user (stored 0%)\n",
            "updating: content/mlruns/0/5610a4ff52994acb83f5ab8d9e30570b/tags/mlflow.source.type (stored 0%)\n",
            "updating: content/mlruns/0/5610a4ff52994acb83f5ab8d9e30570b/tags/mlflow.source.name (stored 0%)\n",
            "updating: content/mlruns/0/5610a4ff52994acb83f5ab8d9e30570b/artifacts/ (stored 0%)\n",
            "updating: content/mlruns/0/5610a4ff52994acb83f5ab8d9e30570b/artifacts/model/ (stored 0%)\n",
            "updating: content/mlruns/0/5610a4ff52994acb83f5ab8d9e30570b/artifacts/model/model.pkl (deflated 8%)\n",
            "updating: content/mlruns/0/5610a4ff52994acb83f5ab8d9e30570b/artifacts/model/conda.yaml (deflated 30%)\n",
            "updating: content/mlruns/0/5610a4ff52994acb83f5ab8d9e30570b/artifacts/model/MLmodel (deflated 43%)\n",
            "updating: content/mlruns/0/5610a4ff52994acb83f5ab8d9e30570b/artifacts/model/python_env.yaml (deflated 17%)\n",
            "updating: content/mlruns/0/5610a4ff52994acb83f5ab8d9e30570b/artifacts/model/requirements.txt (deflated 14%)\n",
            "updating: content/mlruns/0/5610a4ff52994acb83f5ab8d9e30570b/metrics/ (stored 0%)\n",
            "updating: content/mlruns/0/c195442891ca458aa97280421389410f/ (stored 0%)\n",
            "updating: content/mlruns/0/c195442891ca458aa97280421389410f/params/ (stored 0%)\n",
            "updating: content/mlruns/0/c195442891ca458aa97280421389410f/meta.yaml (deflated 44%)\n",
            "updating: content/mlruns/0/c195442891ca458aa97280421389410f/tags/ (stored 0%)\n",
            "updating: content/mlruns/0/c195442891ca458aa97280421389410f/tags/mlflow.runName (stored 0%)\n",
            "updating: content/mlruns/0/c195442891ca458aa97280421389410f/tags/mlflow.user (stored 0%)\n",
            "updating: content/mlruns/0/c195442891ca458aa97280421389410f/tags/mlflow.source.type (stored 0%)\n",
            "updating: content/mlruns/0/c195442891ca458aa97280421389410f/tags/mlflow.source.name (stored 0%)\n",
            "updating: content/mlruns/0/c195442891ca458aa97280421389410f/artifacts/ (stored 0%)\n",
            "updating: content/mlruns/0/c195442891ca458aa97280421389410f/metrics/ (stored 0%)\n",
            "updating: content/mlruns/0/18d034ebd8ec414b91be110f1ec5d283/ (stored 0%)\n",
            "updating: content/mlruns/0/18d034ebd8ec414b91be110f1ec5d283/params/ (stored 0%)\n",
            "updating: content/mlruns/0/18d034ebd8ec414b91be110f1ec5d283/params/Area under Precision Recall Curve (stored 0%)\n",
            "updating: content/mlruns/0/18d034ebd8ec414b91be110f1ec5d283/meta.yaml (deflated 44%)\n",
            "updating: content/mlruns/0/18d034ebd8ec414b91be110f1ec5d283/tags/ (stored 0%)\n",
            "updating: content/mlruns/0/18d034ebd8ec414b91be110f1ec5d283/tags/mlflow.runName (stored 0%)\n",
            "updating: content/mlruns/0/18d034ebd8ec414b91be110f1ec5d283/tags/mlflow.log-model.history (deflated 43%)\n",
            "updating: content/mlruns/0/18d034ebd8ec414b91be110f1ec5d283/tags/mlflow.user (stored 0%)\n",
            "updating: content/mlruns/0/18d034ebd8ec414b91be110f1ec5d283/tags/mlflow.source.type (stored 0%)\n",
            "updating: content/mlruns/0/18d034ebd8ec414b91be110f1ec5d283/tags/mlflow.source.name (stored 0%)\n",
            "updating: content/mlruns/0/18d034ebd8ec414b91be110f1ec5d283/artifacts/ (stored 0%)\n",
            "updating: content/mlruns/0/18d034ebd8ec414b91be110f1ec5d283/artifacts/model/ (stored 0%)\n",
            "updating: content/mlruns/0/18d034ebd8ec414b91be110f1ec5d283/artifacts/model/model.pkl (deflated 4%)\n",
            "updating: content/mlruns/0/18d034ebd8ec414b91be110f1ec5d283/artifacts/model/conda.yaml (deflated 30%)\n",
            "updating: content/mlruns/0/18d034ebd8ec414b91be110f1ec5d283/artifacts/model/MLmodel (deflated 43%)\n",
            "updating: content/mlruns/0/18d034ebd8ec414b91be110f1ec5d283/artifacts/model/python_env.yaml (deflated 17%)\n",
            "updating: content/mlruns/0/18d034ebd8ec414b91be110f1ec5d283/artifacts/model/requirements.txt (deflated 14%)\n",
            "updating: content/mlruns/0/18d034ebd8ec414b91be110f1ec5d283/metrics/ (stored 0%)\n",
            "updating: content/mlruns/0/198c4cd87c2540f4911a39a6a9b48e7a/ (stored 0%)\n",
            "updating: content/mlruns/0/198c4cd87c2540f4911a39a6a9b48e7a/params/ (stored 0%)\n",
            "updating: content/mlruns/0/198c4cd87c2540f4911a39a6a9b48e7a/meta.yaml (deflated 44%)\n",
            "updating: content/mlruns/0/198c4cd87c2540f4911a39a6a9b48e7a/tags/ (stored 0%)\n",
            "updating: content/mlruns/0/198c4cd87c2540f4911a39a6a9b48e7a/tags/mlflow.runName (stored 0%)\n",
            "updating: content/mlruns/0/198c4cd87c2540f4911a39a6a9b48e7a/tags/mlflow.user (stored 0%)\n",
            "updating: content/mlruns/0/198c4cd87c2540f4911a39a6a9b48e7a/tags/mlflow.source.type (stored 0%)\n",
            "updating: content/mlruns/0/198c4cd87c2540f4911a39a6a9b48e7a/tags/mlflow.source.name (stored 0%)\n",
            "updating: content/mlruns/0/198c4cd87c2540f4911a39a6a9b48e7a/artifacts/ (stored 0%)\n",
            "updating: content/mlruns/0/198c4cd87c2540f4911a39a6a9b48e7a/metrics/ (stored 0%)\n",
            "updating: content/mlruns/0/3dc2c0617fb948bf8ba6bc9cd2d76ad2/ (stored 0%)\n",
            "updating: content/mlruns/0/3dc2c0617fb948bf8ba6bc9cd2d76ad2/params/ (stored 0%)\n",
            "updating: content/mlruns/0/3dc2c0617fb948bf8ba6bc9cd2d76ad2/params/Area under Precision Recall Curve (stored 0%)\n",
            "updating: content/mlruns/0/3dc2c0617fb948bf8ba6bc9cd2d76ad2/meta.yaml (deflated 44%)\n",
            "updating: content/mlruns/0/3dc2c0617fb948bf8ba6bc9cd2d76ad2/tags/ (stored 0%)\n",
            "updating: content/mlruns/0/3dc2c0617fb948bf8ba6bc9cd2d76ad2/tags/mlflow.runName (stored 0%)\n",
            "updating: content/mlruns/0/3dc2c0617fb948bf8ba6bc9cd2d76ad2/tags/mlflow.log-model.history (deflated 43%)\n",
            "updating: content/mlruns/0/3dc2c0617fb948bf8ba6bc9cd2d76ad2/tags/mlflow.user (stored 0%)\n",
            "updating: content/mlruns/0/3dc2c0617fb948bf8ba6bc9cd2d76ad2/tags/mlflow.source.type (stored 0%)\n",
            "updating: content/mlruns/0/3dc2c0617fb948bf8ba6bc9cd2d76ad2/tags/mlflow.source.name (stored 0%)\n",
            "updating: content/mlruns/0/3dc2c0617fb948bf8ba6bc9cd2d76ad2/artifacts/ (stored 0%)\n",
            "updating: content/mlruns/0/3dc2c0617fb948bf8ba6bc9cd2d76ad2/artifacts/model/ (stored 0%)\n",
            "updating: content/mlruns/0/3dc2c0617fb948bf8ba6bc9cd2d76ad2/artifacts/model/model.pkl (deflated 8%)\n",
            "updating: content/mlruns/0/3dc2c0617fb948bf8ba6bc9cd2d76ad2/artifacts/model/conda.yaml (deflated 30%)\n",
            "updating: content/mlruns/0/3dc2c0617fb948bf8ba6bc9cd2d76ad2/artifacts/model/MLmodel (deflated 43%)\n",
            "updating: content/mlruns/0/3dc2c0617fb948bf8ba6bc9cd2d76ad2/artifacts/model/python_env.yaml (deflated 17%)\n",
            "updating: content/mlruns/0/3dc2c0617fb948bf8ba6bc9cd2d76ad2/artifacts/model/requirements.txt (deflated 14%)\n",
            "updating: content/mlruns/0/3dc2c0617fb948bf8ba6bc9cd2d76ad2/metrics/ (stored 0%)\n",
            "updating: content/mlruns/0/3b127ea6c1144c62b21641eb715a0d52/ (stored 0%)\n",
            "updating: content/mlruns/0/3b127ea6c1144c62b21641eb715a0d52/params/ (stored 0%)\n",
            "updating: content/mlruns/0/3b127ea6c1144c62b21641eb715a0d52/params/Area under Precision Recall Curve (stored 0%)\n",
            "updating: content/mlruns/0/3b127ea6c1144c62b21641eb715a0d52/meta.yaml (deflated 44%)\n",
            "updating: content/mlruns/0/3b127ea6c1144c62b21641eb715a0d52/tags/ (stored 0%)\n",
            "updating: content/mlruns/0/3b127ea6c1144c62b21641eb715a0d52/tags/mlflow.runName (stored 0%)\n",
            "updating: content/mlruns/0/3b127ea6c1144c62b21641eb715a0d52/tags/mlflow.log-model.history (deflated 44%)\n",
            "updating: content/mlruns/0/3b127ea6c1144c62b21641eb715a0d52/tags/mlflow.user (stored 0%)\n",
            "updating: content/mlruns/0/3b127ea6c1144c62b21641eb715a0d52/tags/mlflow.source.type (stored 0%)\n",
            "updating: content/mlruns/0/3b127ea6c1144c62b21641eb715a0d52/tags/mlflow.source.name (stored 0%)\n",
            "updating: content/mlruns/0/3b127ea6c1144c62b21641eb715a0d52/artifacts/ (stored 0%)\n",
            "updating: content/mlruns/0/3b127ea6c1144c62b21641eb715a0d52/artifacts/model/ (stored 0%)\n",
            "updating: content/mlruns/0/3b127ea6c1144c62b21641eb715a0d52/artifacts/model/model.pkl (deflated 8%)\n",
            "updating: content/mlruns/0/3b127ea6c1144c62b21641eb715a0d52/artifacts/model/conda.yaml (deflated 30%)\n",
            "updating: content/mlruns/0/3b127ea6c1144c62b21641eb715a0d52/artifacts/model/MLmodel (deflated 43%)\n",
            "updating: content/mlruns/0/3b127ea6c1144c62b21641eb715a0d52/artifacts/model/python_env.yaml (deflated 17%)\n",
            "updating: content/mlruns/0/3b127ea6c1144c62b21641eb715a0d52/artifacts/model/requirements.txt (deflated 14%)\n",
            "updating: content/mlruns/0/3b127ea6c1144c62b21641eb715a0d52/metrics/ (stored 0%)\n",
            "updating: content/mlruns/0/ba83cb8de0df4980ab0e7a7d78970d67/ (stored 0%)\n",
            "updating: content/mlruns/0/ba83cb8de0df4980ab0e7a7d78970d67/params/ (stored 0%)\n",
            "updating: content/mlruns/0/ba83cb8de0df4980ab0e7a7d78970d67/params/Area under Precision Recall Curve (stored 0%)\n",
            "updating: content/mlruns/0/ba83cb8de0df4980ab0e7a7d78970d67/meta.yaml (deflated 44%)\n",
            "updating: content/mlruns/0/ba83cb8de0df4980ab0e7a7d78970d67/tags/ (stored 0%)\n",
            "updating: content/mlruns/0/ba83cb8de0df4980ab0e7a7d78970d67/tags/mlflow.runName (stored 0%)\n",
            "updating: content/mlruns/0/ba83cb8de0df4980ab0e7a7d78970d67/tags/mlflow.log-model.history (deflated 43%)\n",
            "updating: content/mlruns/0/ba83cb8de0df4980ab0e7a7d78970d67/tags/mlflow.user (stored 0%)\n",
            "updating: content/mlruns/0/ba83cb8de0df4980ab0e7a7d78970d67/tags/mlflow.source.type (stored 0%)\n",
            "updating: content/mlruns/0/ba83cb8de0df4980ab0e7a7d78970d67/tags/mlflow.source.name (stored 0%)\n",
            "updating: content/mlruns/0/ba83cb8de0df4980ab0e7a7d78970d67/artifacts/ (stored 0%)\n",
            "updating: content/mlruns/0/ba83cb8de0df4980ab0e7a7d78970d67/artifacts/model/ (stored 0%)\n",
            "updating: content/mlruns/0/ba83cb8de0df4980ab0e7a7d78970d67/artifacts/model/model.pkl (deflated 4%)\n",
            "updating: content/mlruns/0/ba83cb8de0df4980ab0e7a7d78970d67/artifacts/model/conda.yaml (deflated 30%)\n",
            "updating: content/mlruns/0/ba83cb8de0df4980ab0e7a7d78970d67/artifacts/model/MLmodel (deflated 43%)\n",
            "updating: content/mlruns/0/ba83cb8de0df4980ab0e7a7d78970d67/artifacts/model/python_env.yaml (deflated 17%)\n",
            "updating: content/mlruns/0/ba83cb8de0df4980ab0e7a7d78970d67/artifacts/model/requirements.txt (deflated 14%)\n",
            "updating: content/mlruns/0/ba83cb8de0df4980ab0e7a7d78970d67/metrics/ (stored 0%)\n",
            "updating: content/mlruns/0/bab635451ad94a89a71f235f7c921cb6/ (stored 0%)\n",
            "updating: content/mlruns/0/bab635451ad94a89a71f235f7c921cb6/params/ (stored 0%)\n",
            "updating: content/mlruns/0/bab635451ad94a89a71f235f7c921cb6/params/Area under Precision Recall Curve (stored 0%)\n",
            "updating: content/mlruns/0/bab635451ad94a89a71f235f7c921cb6/meta.yaml (deflated 44%)\n",
            "updating: content/mlruns/0/bab635451ad94a89a71f235f7c921cb6/tags/ (stored 0%)\n",
            "updating: content/mlruns/0/bab635451ad94a89a71f235f7c921cb6/tags/mlflow.runName (stored 0%)\n",
            "updating: content/mlruns/0/bab635451ad94a89a71f235f7c921cb6/tags/mlflow.log-model.history (deflated 44%)\n",
            "updating: content/mlruns/0/bab635451ad94a89a71f235f7c921cb6/tags/mlflow.user (stored 0%)\n",
            "updating: content/mlruns/0/bab635451ad94a89a71f235f7c921cb6/tags/mlflow.source.type (stored 0%)\n",
            "updating: content/mlruns/0/bab635451ad94a89a71f235f7c921cb6/tags/mlflow.source.name (stored 0%)\n",
            "updating: content/mlruns/0/bab635451ad94a89a71f235f7c921cb6/artifacts/ (stored 0%)\n",
            "updating: content/mlruns/0/bab635451ad94a89a71f235f7c921cb6/artifacts/model/ (stored 0%)\n",
            "updating: content/mlruns/0/bab635451ad94a89a71f235f7c921cb6/artifacts/model/model.pkl (deflated 4%)\n",
            "updating: content/mlruns/0/bab635451ad94a89a71f235f7c921cb6/artifacts/model/conda.yaml (deflated 30%)\n",
            "updating: content/mlruns/0/bab635451ad94a89a71f235f7c921cb6/artifacts/model/MLmodel (deflated 43%)\n",
            "updating: content/mlruns/0/bab635451ad94a89a71f235f7c921cb6/artifacts/model/python_env.yaml (deflated 17%)\n",
            "updating: content/mlruns/0/bab635451ad94a89a71f235f7c921cb6/artifacts/model/requirements.txt (deflated 14%)\n",
            "updating: content/mlruns/0/bab635451ad94a89a71f235f7c921cb6/metrics/ (stored 0%)\n",
            "  adding: content/mlruns/0/23d2772ceb8142448f6ed66fb9e54a9f/ (stored 0%)\n",
            "  adding: content/mlruns/0/23d2772ceb8142448f6ed66fb9e54a9f/params/ (stored 0%)\n",
            "  adding: content/mlruns/0/23d2772ceb8142448f6ed66fb9e54a9f/params/Area under Precision Recall Curve (stored 0%)\n",
            "  adding: content/mlruns/0/23d2772ceb8142448f6ed66fb9e54a9f/meta.yaml (deflated 44%)\n",
            "  adding: content/mlruns/0/23d2772ceb8142448f6ed66fb9e54a9f/tags/ (stored 0%)\n",
            "  adding: content/mlruns/0/23d2772ceb8142448f6ed66fb9e54a9f/tags/mlflow.runName (stored 0%)\n",
            "  adding: content/mlruns/0/23d2772ceb8142448f6ed66fb9e54a9f/tags/mlflow.log-model.history (deflated 44%)\n",
            "  adding: content/mlruns/0/23d2772ceb8142448f6ed66fb9e54a9f/tags/mlflow.user (stored 0%)\n",
            "  adding: content/mlruns/0/23d2772ceb8142448f6ed66fb9e54a9f/tags/mlflow.source.type (stored 0%)\n",
            "  adding: content/mlruns/0/23d2772ceb8142448f6ed66fb9e54a9f/tags/mlflow.source.name (stored 0%)\n",
            "  adding: content/mlruns/0/23d2772ceb8142448f6ed66fb9e54a9f/artifacts/ (stored 0%)\n",
            "  adding: content/mlruns/0/23d2772ceb8142448f6ed66fb9e54a9f/artifacts/model/ (stored 0%)\n",
            "  adding: content/mlruns/0/23d2772ceb8142448f6ed66fb9e54a9f/artifacts/model/model.pkl (deflated 4%)\n",
            "  adding: content/mlruns/0/23d2772ceb8142448f6ed66fb9e54a9f/artifacts/model/conda.yaml (deflated 30%)\n",
            "  adding: content/mlruns/0/23d2772ceb8142448f6ed66fb9e54a9f/artifacts/model/MLmodel (deflated 43%)\n",
            "  adding: content/mlruns/0/23d2772ceb8142448f6ed66fb9e54a9f/artifacts/model/python_env.yaml (deflated 17%)\n",
            "  adding: content/mlruns/0/23d2772ceb8142448f6ed66fb9e54a9f/artifacts/model/requirements.txt (deflated 14%)\n",
            "  adding: content/mlruns/0/23d2772ceb8142448f6ed66fb9e54a9f/metrics/ (stored 0%)\n",
            "  adding: content/mlruns/0/2580c46091734ccfb85c50119d0f3e38/ (stored 0%)\n",
            "  adding: content/mlruns/0/2580c46091734ccfb85c50119d0f3e38/params/ (stored 0%)\n",
            "  adding: content/mlruns/0/2580c46091734ccfb85c50119d0f3e38/params/Area under Precision Recall Curve (stored 0%)\n",
            "  adding: content/mlruns/0/2580c46091734ccfb85c50119d0f3e38/meta.yaml (deflated 44%)\n",
            "  adding: content/mlruns/0/2580c46091734ccfb85c50119d0f3e38/tags/ (stored 0%)\n",
            "  adding: content/mlruns/0/2580c46091734ccfb85c50119d0f3e38/tags/mlflow.runName (stored 0%)\n",
            "  adding: content/mlruns/0/2580c46091734ccfb85c50119d0f3e38/tags/mlflow.log-model.history (deflated 43%)\n",
            "  adding: content/mlruns/0/2580c46091734ccfb85c50119d0f3e38/tags/mlflow.user (stored 0%)\n",
            "  adding: content/mlruns/0/2580c46091734ccfb85c50119d0f3e38/tags/mlflow.source.type (stored 0%)\n",
            "  adding: content/mlruns/0/2580c46091734ccfb85c50119d0f3e38/tags/mlflow.source.name (stored 0%)\n",
            "  adding: content/mlruns/0/2580c46091734ccfb85c50119d0f3e38/artifacts/ (stored 0%)\n",
            "  adding: content/mlruns/0/2580c46091734ccfb85c50119d0f3e38/artifacts/model/ (stored 0%)\n",
            "  adding: content/mlruns/0/2580c46091734ccfb85c50119d0f3e38/artifacts/model/model.pkl (deflated 8%)\n",
            "  adding: content/mlruns/0/2580c46091734ccfb85c50119d0f3e38/artifacts/model/conda.yaml (deflated 30%)\n",
            "  adding: content/mlruns/0/2580c46091734ccfb85c50119d0f3e38/artifacts/model/MLmodel (deflated 43%)\n",
            "  adding: content/mlruns/0/2580c46091734ccfb85c50119d0f3e38/artifacts/model/python_env.yaml (deflated 17%)\n",
            "  adding: content/mlruns/0/2580c46091734ccfb85c50119d0f3e38/artifacts/model/requirements.txt (deflated 14%)\n",
            "  adding: content/mlruns/0/2580c46091734ccfb85c50119d0f3e38/metrics/ (stored 0%)\n",
            "  adding: content/mlruns/0/5b9b11a1450d4c5dbdc1721346583bd7/ (stored 0%)\n",
            "  adding: content/mlruns/0/5b9b11a1450d4c5dbdc1721346583bd7/params/ (stored 0%)\n",
            "  adding: content/mlruns/0/5b9b11a1450d4c5dbdc1721346583bd7/params/Area under Precision Recall Curve (stored 0%)\n",
            "  adding: content/mlruns/0/5b9b11a1450d4c5dbdc1721346583bd7/meta.yaml (deflated 44%)\n",
            "  adding: content/mlruns/0/5b9b11a1450d4c5dbdc1721346583bd7/tags/ (stored 0%)\n",
            "  adding: content/mlruns/0/5b9b11a1450d4c5dbdc1721346583bd7/tags/mlflow.runName (stored 0%)\n",
            "  adding: content/mlruns/0/5b9b11a1450d4c5dbdc1721346583bd7/tags/mlflow.log-model.history (deflated 43%)\n",
            "  adding: content/mlruns/0/5b9b11a1450d4c5dbdc1721346583bd7/tags/mlflow.user (stored 0%)\n",
            "  adding: content/mlruns/0/5b9b11a1450d4c5dbdc1721346583bd7/tags/mlflow.source.type (stored 0%)\n",
            "  adding: content/mlruns/0/5b9b11a1450d4c5dbdc1721346583bd7/tags/mlflow.source.name (stored 0%)\n",
            "  adding: content/mlruns/0/5b9b11a1450d4c5dbdc1721346583bd7/artifacts/ (stored 0%)\n",
            "  adding: content/mlruns/0/5b9b11a1450d4c5dbdc1721346583bd7/artifacts/model/ (stored 0%)\n",
            "  adding: content/mlruns/0/5b9b11a1450d4c5dbdc1721346583bd7/artifacts/model/model.pkl (deflated 4%)\n",
            "  adding: content/mlruns/0/5b9b11a1450d4c5dbdc1721346583bd7/artifacts/model/conda.yaml (deflated 30%)\n",
            "  adding: content/mlruns/0/5b9b11a1450d4c5dbdc1721346583bd7/artifacts/model/MLmodel (deflated 43%)\n",
            "  adding: content/mlruns/0/5b9b11a1450d4c5dbdc1721346583bd7/artifacts/model/python_env.yaml (deflated 17%)\n",
            "  adding: content/mlruns/0/5b9b11a1450d4c5dbdc1721346583bd7/artifacts/model/requirements.txt (deflated 14%)\n",
            "  adding: content/mlruns/0/5b9b11a1450d4c5dbdc1721346583bd7/metrics/ (stored 0%)\n"
          ]
        }
      ]
    },
    {
      "cell_type": "code",
      "source": [
        "files.download(\"/content/mlrunsNB.zip\")"
      ],
      "metadata": {
        "colab": {
          "base_uri": "https://localhost:8080/",
          "height": 34
        },
        "id": "ttsznsbEDdng",
        "outputId": "2ff6d5b1-c88e-44c5-8ff0-693cbfb54225"
      },
      "id": "ttsznsbEDdng",
      "execution_count": 146,
      "outputs": [
        {
          "output_type": "display_data",
          "data": {
            "text/plain": [
              "<IPython.core.display.Javascript object>"
            ],
            "application/javascript": [
              "\n",
              "    async function download(id, filename, size) {\n",
              "      if (!google.colab.kernel.accessAllowed) {\n",
              "        return;\n",
              "      }\n",
              "      const div = document.createElement('div');\n",
              "      const label = document.createElement('label');\n",
              "      label.textContent = `Downloading \"${filename}\": `;\n",
              "      div.appendChild(label);\n",
              "      const progress = document.createElement('progress');\n",
              "      progress.max = size;\n",
              "      div.appendChild(progress);\n",
              "      document.body.appendChild(div);\n",
              "\n",
              "      const buffers = [];\n",
              "      let downloaded = 0;\n",
              "\n",
              "      const channel = await google.colab.kernel.comms.open(id);\n",
              "      // Send a message to notify the kernel that we're ready.\n",
              "      channel.send({})\n",
              "\n",
              "      for await (const message of channel.messages) {\n",
              "        // Send a message to notify the kernel that we're ready.\n",
              "        channel.send({})\n",
              "        if (message.buffers) {\n",
              "          for (const buffer of message.buffers) {\n",
              "            buffers.push(buffer);\n",
              "            downloaded += buffer.byteLength;\n",
              "            progress.value = downloaded;\n",
              "          }\n",
              "        }\n",
              "      }\n",
              "      const blob = new Blob(buffers, {type: 'application/binary'});\n",
              "      const a = document.createElement('a');\n",
              "      a.href = window.URL.createObjectURL(blob);\n",
              "      a.download = filename;\n",
              "      div.appendChild(a);\n",
              "      a.click();\n",
              "      div.remove();\n",
              "    }\n",
              "  "
            ]
          },
          "metadata": {}
        },
        {
          "output_type": "display_data",
          "data": {
            "text/plain": [
              "<IPython.core.display.Javascript object>"
            ],
            "application/javascript": [
              "download(\"download_984a3e1c-cac9-46b7-8d09-1dfb9273c3d0\", \"mlrunsNB.zip\", 7072592)"
            ]
          },
          "metadata": {}
        }
      ]
    },
    {
      "cell_type": "code",
      "source": [],
      "metadata": {
        "id": "LZbCmArwDiUe"
      },
      "id": "LZbCmArwDiUe",
      "execution_count": null,
      "outputs": []
    }
  ],
  "metadata": {
    "kernelspec": {
      "display_name": "Python 3",
      "language": "python",
      "name": "python3"
    },
    "language_info": {
      "codemirror_mode": {
        "name": "ipython",
        "version": 3
      },
      "file_extension": ".py",
      "mimetype": "text/x-python",
      "name": "python",
      "nbconvert_exporter": "python",
      "pygments_lexer": "ipython3",
      "version": "3.8.8"
    },
    "colab": {
      "provenance": []
    }
  },
  "nbformat": 4,
  "nbformat_minor": 5
}